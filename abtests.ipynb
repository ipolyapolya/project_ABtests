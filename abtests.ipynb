{
 "cells": [
  {
   "cell_type": "markdown",
   "id": "36573410",
   "metadata": {
    "toc": true
   },
   "source": [
    "<h1>Table of Contents<span class=\"tocSkip\"></span></h1>\n",
    "<div class=\"toc\"><ul class=\"toc-item\"><li><span><a href=\"#Обзор-данных-и-подготовка-к-анализу\" data-toc-modified-id=\"Обзор-данных-и-подготовка-к-анализу-1\"><span class=\"toc-item-num\">1&nbsp;&nbsp;</span>Обзор данных и подготовка к анализу</a></span><ul class=\"toc-item\"><li><span><a href=\"#Удаление-пользователей\" data-toc-modified-id=\"Удаление-пользователей-1.1\"><span class=\"toc-item-num\">1.1&nbsp;&nbsp;</span>Удаление пользователей</a></span></li></ul></li><li><span><a href=\"#Приоритизация-гипотез\" data-toc-modified-id=\"Приоритизация-гипотез-2\"><span class=\"toc-item-num\">2&nbsp;&nbsp;</span>Приоритизация гипотез</a></span><ul class=\"toc-item\"><li><span><a href=\"#ICE\" data-toc-modified-id=\"ICE-2.1\"><span class=\"toc-item-num\">2.1&nbsp;&nbsp;</span>ICE</a></span></li><li><span><a href=\"#RICE\" data-toc-modified-id=\"RICE-2.2\"><span class=\"toc-item-num\">2.2&nbsp;&nbsp;</span>RICE</a></span></li><li><span><a href=\"#Выводы\" data-toc-modified-id=\"Выводы-2.3\"><span class=\"toc-item-num\">2.3&nbsp;&nbsp;</span>Выводы</a></span></li></ul></li><li><span><a href=\"#Анализ-A/B-теста\" data-toc-modified-id=\"Анализ-A/B-теста-3\"><span class=\"toc-item-num\">3&nbsp;&nbsp;</span>Анализ A/B-теста</a></span><ul class=\"toc-item\"><li><span><a href=\"#Кумулятивная-выручка-по-группам\" data-toc-modified-id=\"Кумулятивная-выручка-по-группам-3.1\"><span class=\"toc-item-num\">3.1&nbsp;&nbsp;</span>Кумулятивная выручка по группам</a></span><ul class=\"toc-item\"><li><span><a href=\"#Описание\" data-toc-modified-id=\"Описание-3.1.1\"><span class=\"toc-item-num\">3.1.1&nbsp;&nbsp;</span>Описание</a></span></li></ul></li><li><span><a href=\"#Кумулятивный-средний-чек-по-группам\" data-toc-modified-id=\"Кумулятивный-средний-чек-по-группам-3.2\"><span class=\"toc-item-num\">3.2&nbsp;&nbsp;</span>Кумулятивный средний чек по группам</a></span><ul class=\"toc-item\"><li><span><a href=\"#Описание\" data-toc-modified-id=\"Описание-3.2.1\"><span class=\"toc-item-num\">3.2.1&nbsp;&nbsp;</span>Описание</a></span></li></ul></li><li><span><a href=\"#Относительное-изменение-кумулятивного-среднего-чека-группы-B-к-группе-A.\" data-toc-modified-id=\"Относительное-изменение-кумулятивного-среднего-чека-группы-B-к-группе-A.-3.3\"><span class=\"toc-item-num\">3.3&nbsp;&nbsp;</span>Относительное изменение кумулятивного среднего чека группы B к группе A.</a></span><ul class=\"toc-item\"><li><span><a href=\"#Описание\" data-toc-modified-id=\"Описание-3.3.1\"><span class=\"toc-item-num\">3.3.1&nbsp;&nbsp;</span>Описание</a></span></li></ul></li><li><span><a href=\"#Кумулятивная-конверсия-по-группам\" data-toc-modified-id=\"Кумулятивная-конверсия-по-группам-3.4\"><span class=\"toc-item-num\">3.4&nbsp;&nbsp;</span>Кумулятивная конверсия по группам</a></span><ul class=\"toc-item\"><li><span><a href=\"#Описание\" data-toc-modified-id=\"Описание-3.4.1\"><span class=\"toc-item-num\">3.4.1&nbsp;&nbsp;</span>Описание</a></span></li></ul></li><li><span><a href=\"#Относительное-изменение-кумулятивной-конверсии-группы-B-к-группе-A\" data-toc-modified-id=\"Относительное-изменение-кумулятивной-конверсии-группы-B-к-группе-A-3.5\"><span class=\"toc-item-num\">3.5&nbsp;&nbsp;</span>Относительное изменение кумулятивной конверсии группы B к группе A</a></span><ul class=\"toc-item\"><li><span><a href=\"#Описание\" data-toc-modified-id=\"Описание-3.5.1\"><span class=\"toc-item-num\">3.5.1&nbsp;&nbsp;</span>Описание</a></span></li></ul></li><li><span><a href=\"#Количество-заказов-по-пользователям\" data-toc-modified-id=\"Количество-заказов-по-пользователям-3.6\"><span class=\"toc-item-num\">3.6&nbsp;&nbsp;</span>Количество заказов по пользователям</a></span><ul class=\"toc-item\"><li><span><a href=\"#Выводы-и-предположения\" data-toc-modified-id=\"Выводы-и-предположения-3.6.1\"><span class=\"toc-item-num\">3.6.1&nbsp;&nbsp;</span>Выводы и предположения</a></span></li></ul></li><li><span><a href=\"#Стоимости-заказов\" data-toc-modified-id=\"Стоимости-заказов-3.7\"><span class=\"toc-item-num\">3.7&nbsp;&nbsp;</span>Стоимости заказов</a></span><ul class=\"toc-item\"><li><span><a href=\"#Выводы-и-предположения\" data-toc-modified-id=\"Выводы-и-предположения-3.7.1\"><span class=\"toc-item-num\">3.7.1&nbsp;&nbsp;</span>Выводы и предположения</a></span></li></ul></li><li><span><a href=\"#Статистическая-значимость-(конверсия)\" data-toc-modified-id=\"Статистическая-значимость-(конверсия)-3.8\"><span class=\"toc-item-num\">3.8&nbsp;&nbsp;</span>Статистическая значимость (конверсия)</a></span><ul class=\"toc-item\"><li><span><a href=\"#&quot;Сырые&quot;-данные\" data-toc-modified-id=\"&quot;Сырые&quot;-данные-3.8.1\"><span class=\"toc-item-num\">3.8.1&nbsp;&nbsp;</span>\"Сырые\" данные</a></span></li><li><span><a href=\"#&quot;Очищенные&quot;-данные\" data-toc-modified-id=\"&quot;Очищенные&quot;-данные-3.8.2\"><span class=\"toc-item-num\">3.8.2&nbsp;&nbsp;</span>\"Очищенные\" данные</a></span></li><li><span><a href=\"#Выводы\" data-toc-modified-id=\"Выводы-3.8.3\"><span class=\"toc-item-num\">3.8.3&nbsp;&nbsp;</span>Выводы</a></span></li></ul></li><li><span><a href=\"#Статистическая-значимость-(средний-чек)\" data-toc-modified-id=\"Статистическая-значимость-(средний-чек)-3.9\"><span class=\"toc-item-num\">3.9&nbsp;&nbsp;</span>Статистическая значимость (средний чек)</a></span><ul class=\"toc-item\"><li><span><a href=\"#&quot;Сырые&quot;-данные\" data-toc-modified-id=\"&quot;Сырые&quot;-данные-3.9.1\"><span class=\"toc-item-num\">3.9.1&nbsp;&nbsp;</span>\"Сырые\" данные</a></span></li><li><span><a href=\"#&quot;Очищенные&quot;-данные\" data-toc-modified-id=\"&quot;Очищенные&quot;-данные-3.9.2\"><span class=\"toc-item-num\">3.9.2&nbsp;&nbsp;</span>\"Очищенные\" данные</a></span></li><li><span><a href=\"#Выводы:\" data-toc-modified-id=\"Выводы:-3.9.3\"><span class=\"toc-item-num\">3.9.3&nbsp;&nbsp;</span>Выводы:</a></span></li></ul></li></ul></li><li><span><a href=\"#Выводы-и-решение:\" data-toc-modified-id=\"Выводы-и-решение:-4\"><span class=\"toc-item-num\">4&nbsp;&nbsp;</span>Выводы и решение:</a></span></li></ul></div>"
   ]
  },
  {
   "cell_type": "markdown",
   "id": "ec185702",
   "metadata": {},
   "source": [
    "# Проект"
   ]
  },
  {
   "cell_type": "markdown",
   "id": "3c944803",
   "metadata": {},
   "source": [
    "Цели:\n",
    "1. приоритизировать гипотезы\n",
    "2. запустить и проанализировать A/B-тест\n",
    "\n",
    "Этапы: \n",
    "1. подготовка данных\n",
    "2. приоритизация гипотез двумя методами\n",
    "3. анализ A/B-теста\n",
    "4. выводы"
   ]
  },
  {
   "cell_type": "markdown",
   "id": "091e1cd5",
   "metadata": {},
   "source": [
    "**Описание данных**\n",
    "\n",
    "Данные для первой части\n",
    "\n",
    "Hypothesis\n",
    "\n",
    "- Hypothesis — краткое описание гипотезы;\n",
    "- Reach — охват пользователей по 10-балльной шкале;\n",
    "- Impact — влияние на пользователей по 10-балльной шкале;\n",
    "- Confidence — уверенность в гипотезе по 10-балльной шкале;\n",
    "- Efforts — затраты ресурсов на проверку гипотезы по 10-балльной шкале. Чем больше значение Efforts, тем дороже проверка гипотезы.\n",
    "\n",
    "Orders\n",
    "\n",
    "- transactionId — идентификатор заказа;\n",
    "- visitorId — идентификатор пользователя, совершившего заказ;\n",
    "- date — дата, когда был совершён заказ;\n",
    "- revenue — выручка заказа;\n",
    "- group — группа A/B-теста, в которую попал заказ.\n",
    "\n",
    "\n",
    "Visitors\n",
    "\n",
    "- date — дата;\n",
    "- group — группа A/B-теста;\n",
    "- visitors — количество пользователей в указанную дату в указанной группе A/B-теста"
   ]
  },
  {
   "cell_type": "code",
   "execution_count": 1,
   "id": "1140f88e",
   "metadata": {},
   "outputs": [],
   "source": [
    "# загружаем библиотеки\n",
    "import pandas as pd\n",
    "import matplotlib.pyplot as plt\n",
    "import numpy as np    \n",
    "from scipy import stats \n",
    "from datetime import datetime, timedelta\n",
    "import datetime as dt\n",
    "from pandas.plotting import register_matplotlib_converters\n",
    "register_matplotlib_converters()\n",
    "\n",
    "%matplotlib inline"
   ]
  },
  {
   "cell_type": "markdown",
   "id": "1343a9ee",
   "metadata": {},
   "source": [
    "## Обзор данных и подготовка к анализу"
   ]
  },
  {
   "cell_type": "code",
   "execution_count": 2,
   "id": "f69d9761",
   "metadata": {},
   "outputs": [],
   "source": [
    "# открываем датасеты\n",
    "try:\n",
    "    hypothesis = pd.read_csv('hypothesis.csv')\n",
    "except:\n",
    "    hypothesis =  pd.read_csv('/datasets/hypothesis.csv')"
   ]
  },
  {
   "cell_type": "code",
   "execution_count": 3,
   "id": "29a0839c",
   "metadata": {},
   "outputs": [],
   "source": [
    "try:\n",
    "    orders = pd.read_csv('orders.csv')\n",
    "except:\n",
    "    orders =  pd.read_csv('/datasets/orders.csv')"
   ]
  },
  {
   "cell_type": "code",
   "execution_count": 4,
   "id": "7366be39",
   "metadata": {},
   "outputs": [],
   "source": [
    "try:\n",
    "    visitors = pd.read_csv('visitors.csv')\n",
    "except:\n",
    "    visitors =  pd.read_csv('/datasets/visitors.csv')"
   ]
  },
  {
   "cell_type": "code",
   "execution_count": 5,
   "id": "09b28f22",
   "metadata": {
    "scrolled": true
   },
   "outputs": [
    {
     "name": "stdout",
     "output_type": "stream",
     "text": [
      "<class 'pandas.core.frame.DataFrame'>\n",
      "RangeIndex: 9 entries, 0 to 8\n",
      "Data columns (total 5 columns):\n",
      " #   Column      Non-Null Count  Dtype \n",
      "---  ------      --------------  ----- \n",
      " 0   Hypothesis  9 non-null      object\n",
      " 1   Reach       9 non-null      int64 \n",
      " 2   Impact      9 non-null      int64 \n",
      " 3   Confidence  9 non-null      int64 \n",
      " 4   Efforts     9 non-null      int64 \n",
      "dtypes: int64(4), object(1)\n",
      "memory usage: 488.0+ bytes\n"
     ]
    }
   ],
   "source": [
    "hypothesis.info()"
   ]
  },
  {
   "cell_type": "code",
   "execution_count": 6,
   "id": "dbcc688e",
   "metadata": {},
   "outputs": [],
   "source": [
    "# переименовываем столбцы\n",
    "hypothesis = hypothesis.rename(columns={'Hypothesis': 'hypothesis', 'Reach': 'reach', 'Impact': 'impact', 'Confidence': 'confidence', 'Efforts': 'efforts'})"
   ]
  },
  {
   "cell_type": "code",
   "execution_count": 7,
   "id": "07f54d57",
   "metadata": {},
   "outputs": [],
   "source": [
    "# функция для ознакомления с данными\n",
    "def first_look(datas):\n",
    "    for i in datas:\n",
    "        print ()\n",
    "        display (i.head())\n",
    "        print ()\n",
    "        display (i.info())\n",
    "        print ('Duplicates:', i.duplicated().sum())"
   ]
  },
  {
   "cell_type": "code",
   "execution_count": 8,
   "id": "c48aeca7",
   "metadata": {
    "scrolled": false
   },
   "outputs": [
    {
     "name": "stdout",
     "output_type": "stream",
     "text": [
      "\n"
     ]
    },
    {
     "data": {
      "text/html": [
       "<div>\n",
       "<style scoped>\n",
       "    .dataframe tbody tr th:only-of-type {\n",
       "        vertical-align: middle;\n",
       "    }\n",
       "\n",
       "    .dataframe tbody tr th {\n",
       "        vertical-align: top;\n",
       "    }\n",
       "\n",
       "    .dataframe thead th {\n",
       "        text-align: right;\n",
       "    }\n",
       "</style>\n",
       "<table border=\"1\" class=\"dataframe\">\n",
       "  <thead>\n",
       "    <tr style=\"text-align: right;\">\n",
       "      <th></th>\n",
       "      <th>transactionId</th>\n",
       "      <th>visitorId</th>\n",
       "      <th>date</th>\n",
       "      <th>revenue</th>\n",
       "      <th>group</th>\n",
       "    </tr>\n",
       "  </thead>\n",
       "  <tbody>\n",
       "    <tr>\n",
       "      <th>0</th>\n",
       "      <td>3667963787</td>\n",
       "      <td>3312258926</td>\n",
       "      <td>2019-08-15</td>\n",
       "      <td>1650</td>\n",
       "      <td>B</td>\n",
       "    </tr>\n",
       "    <tr>\n",
       "      <th>1</th>\n",
       "      <td>2804400009</td>\n",
       "      <td>3642806036</td>\n",
       "      <td>2019-08-15</td>\n",
       "      <td>730</td>\n",
       "      <td>B</td>\n",
       "    </tr>\n",
       "    <tr>\n",
       "      <th>2</th>\n",
       "      <td>2961555356</td>\n",
       "      <td>4069496402</td>\n",
       "      <td>2019-08-15</td>\n",
       "      <td>400</td>\n",
       "      <td>A</td>\n",
       "    </tr>\n",
       "    <tr>\n",
       "      <th>3</th>\n",
       "      <td>3797467345</td>\n",
       "      <td>1196621759</td>\n",
       "      <td>2019-08-15</td>\n",
       "      <td>9759</td>\n",
       "      <td>B</td>\n",
       "    </tr>\n",
       "    <tr>\n",
       "      <th>4</th>\n",
       "      <td>2282983706</td>\n",
       "      <td>2322279887</td>\n",
       "      <td>2019-08-15</td>\n",
       "      <td>2308</td>\n",
       "      <td>B</td>\n",
       "    </tr>\n",
       "  </tbody>\n",
       "</table>\n",
       "</div>"
      ],
      "text/plain": [
       "   transactionId   visitorId        date  revenue group\n",
       "0     3667963787  3312258926  2019-08-15     1650     B\n",
       "1     2804400009  3642806036  2019-08-15      730     B\n",
       "2     2961555356  4069496402  2019-08-15      400     A\n",
       "3     3797467345  1196621759  2019-08-15     9759     B\n",
       "4     2282983706  2322279887  2019-08-15     2308     B"
      ]
     },
     "metadata": {},
     "output_type": "display_data"
    },
    {
     "name": "stdout",
     "output_type": "stream",
     "text": [
      "\n",
      "<class 'pandas.core.frame.DataFrame'>\n",
      "RangeIndex: 1197 entries, 0 to 1196\n",
      "Data columns (total 5 columns):\n",
      " #   Column         Non-Null Count  Dtype \n",
      "---  ------         --------------  ----- \n",
      " 0   transactionId  1197 non-null   int64 \n",
      " 1   visitorId      1197 non-null   int64 \n",
      " 2   date           1197 non-null   object\n",
      " 3   revenue        1197 non-null   int64 \n",
      " 4   group          1197 non-null   object\n",
      "dtypes: int64(3), object(2)\n",
      "memory usage: 46.9+ KB\n"
     ]
    },
    {
     "data": {
      "text/plain": [
       "None"
      ]
     },
     "metadata": {},
     "output_type": "display_data"
    },
    {
     "name": "stdout",
     "output_type": "stream",
     "text": [
      "Duplicates: 0\n",
      "\n"
     ]
    },
    {
     "data": {
      "text/html": [
       "<div>\n",
       "<style scoped>\n",
       "    .dataframe tbody tr th:only-of-type {\n",
       "        vertical-align: middle;\n",
       "    }\n",
       "\n",
       "    .dataframe tbody tr th {\n",
       "        vertical-align: top;\n",
       "    }\n",
       "\n",
       "    .dataframe thead th {\n",
       "        text-align: right;\n",
       "    }\n",
       "</style>\n",
       "<table border=\"1\" class=\"dataframe\">\n",
       "  <thead>\n",
       "    <tr style=\"text-align: right;\">\n",
       "      <th></th>\n",
       "      <th>date</th>\n",
       "      <th>group</th>\n",
       "      <th>visitors</th>\n",
       "    </tr>\n",
       "  </thead>\n",
       "  <tbody>\n",
       "    <tr>\n",
       "      <th>0</th>\n",
       "      <td>2019-08-01</td>\n",
       "      <td>A</td>\n",
       "      <td>719</td>\n",
       "    </tr>\n",
       "    <tr>\n",
       "      <th>1</th>\n",
       "      <td>2019-08-02</td>\n",
       "      <td>A</td>\n",
       "      <td>619</td>\n",
       "    </tr>\n",
       "    <tr>\n",
       "      <th>2</th>\n",
       "      <td>2019-08-03</td>\n",
       "      <td>A</td>\n",
       "      <td>507</td>\n",
       "    </tr>\n",
       "    <tr>\n",
       "      <th>3</th>\n",
       "      <td>2019-08-04</td>\n",
       "      <td>A</td>\n",
       "      <td>717</td>\n",
       "    </tr>\n",
       "    <tr>\n",
       "      <th>4</th>\n",
       "      <td>2019-08-05</td>\n",
       "      <td>A</td>\n",
       "      <td>756</td>\n",
       "    </tr>\n",
       "  </tbody>\n",
       "</table>\n",
       "</div>"
      ],
      "text/plain": [
       "         date group  visitors\n",
       "0  2019-08-01     A       719\n",
       "1  2019-08-02     A       619\n",
       "2  2019-08-03     A       507\n",
       "3  2019-08-04     A       717\n",
       "4  2019-08-05     A       756"
      ]
     },
     "metadata": {},
     "output_type": "display_data"
    },
    {
     "name": "stdout",
     "output_type": "stream",
     "text": [
      "\n",
      "<class 'pandas.core.frame.DataFrame'>\n",
      "RangeIndex: 62 entries, 0 to 61\n",
      "Data columns (total 3 columns):\n",
      " #   Column    Non-Null Count  Dtype \n",
      "---  ------    --------------  ----- \n",
      " 0   date      62 non-null     object\n",
      " 1   group     62 non-null     object\n",
      " 2   visitors  62 non-null     int64 \n",
      "dtypes: int64(1), object(2)\n",
      "memory usage: 1.6+ KB\n"
     ]
    },
    {
     "data": {
      "text/plain": [
       "None"
      ]
     },
     "metadata": {},
     "output_type": "display_data"
    },
    {
     "name": "stdout",
     "output_type": "stream",
     "text": [
      "Duplicates: 0\n"
     ]
    }
   ],
   "source": [
    "datas = [orders, visitors]\n",
    "first_look(datas)"
   ]
  },
  {
   "cell_type": "markdown",
   "id": "9b4a4a69",
   "metadata": {},
   "source": [
    "### Удаление пользователей"
   ]
  },
  {
   "cell_type": "code",
   "execution_count": 9,
   "id": "a8aedd61",
   "metadata": {
    "scrolled": true
   },
   "outputs": [
    {
     "data": {
      "text/plain": [
       "(58, 2)"
      ]
     },
     "execution_count": 9,
     "metadata": {},
     "output_type": "execute_result"
    }
   ],
   "source": [
    "both_users = orders.groupby('visitorId')['group'].nunique().reset_index().query('group > 1')\n",
    "both_users.shape"
   ]
  },
  {
   "cell_type": "code",
   "execution_count": 10,
   "id": "59c0f9cb",
   "metadata": {},
   "outputs": [
    {
     "name": "stdout",
     "output_type": "stream",
     "text": [
      "58\n"
     ]
    }
   ],
   "source": [
    "id_both = []\n",
    "for index, row in both_users.iterrows():\n",
    "    id_both.append(row['visitorId'])\n",
    "\n",
    "print(len(id_both))"
   ]
  },
  {
   "cell_type": "code",
   "execution_count": 11,
   "id": "fb26b2b2",
   "metadata": {},
   "outputs": [],
   "source": [
    "for index, row in orders.iterrows():\n",
    "    if row['visitorId'] in id_both:\n",
    "        orders = orders.drop(labels=[index], axis=0)"
   ]
  },
  {
   "cell_type": "code",
   "execution_count": 12,
   "id": "07c92e71",
   "metadata": {
    "scrolled": false
   },
   "outputs": [
    {
     "name": "stdout",
     "output_type": "stream",
     "text": [
      "<class 'pandas.core.frame.DataFrame'>\n",
      "Int64Index: 1016 entries, 0 to 1196\n",
      "Data columns (total 5 columns):\n",
      " #   Column         Non-Null Count  Dtype \n",
      "---  ------         --------------  ----- \n",
      " 0   transactionId  1016 non-null   int64 \n",
      " 1   visitorId      1016 non-null   int64 \n",
      " 2   date           1016 non-null   object\n",
      " 3   revenue        1016 non-null   int64 \n",
      " 4   group          1016 non-null   object\n",
      "dtypes: int64(3), object(2)\n",
      "memory usage: 47.6+ KB\n"
     ]
    }
   ],
   "source": [
    "orders.info()"
   ]
  },
  {
   "cell_type": "code",
   "execution_count": 13,
   "id": "6c581826",
   "metadata": {},
   "outputs": [
    {
     "data": {
      "text/html": [
       "<div>\n",
       "<style scoped>\n",
       "    .dataframe tbody tr th:only-of-type {\n",
       "        vertical-align: middle;\n",
       "    }\n",
       "\n",
       "    .dataframe tbody tr th {\n",
       "        vertical-align: top;\n",
       "    }\n",
       "\n",
       "    .dataframe thead th {\n",
       "        text-align: right;\n",
       "    }\n",
       "</style>\n",
       "<table border=\"1\" class=\"dataframe\">\n",
       "  <thead>\n",
       "    <tr style=\"text-align: right;\">\n",
       "      <th></th>\n",
       "      <th>visitorId</th>\n",
       "      <th>group</th>\n",
       "    </tr>\n",
       "  </thead>\n",
       "  <tbody>\n",
       "  </tbody>\n",
       "</table>\n",
       "</div>"
      ],
      "text/plain": [
       "Empty DataFrame\n",
       "Columns: [visitorId, group]\n",
       "Index: []"
      ]
     },
     "execution_count": 13,
     "metadata": {},
     "output_type": "execute_result"
    }
   ],
   "source": [
    "orders.groupby('visitorId')['group'].nunique().reset_index().query('group > 1')"
   ]
  },
  {
   "cell_type": "markdown",
   "id": "08713d0e",
   "metadata": {},
   "source": [
    "## Приоритизация гипотез"
   ]
  },
  {
   "cell_type": "code",
   "execution_count": 14,
   "id": "360d8fb8",
   "metadata": {},
   "outputs": [
    {
     "data": {
      "text/html": [
       "<div>\n",
       "<style scoped>\n",
       "    .dataframe tbody tr th:only-of-type {\n",
       "        vertical-align: middle;\n",
       "    }\n",
       "\n",
       "    .dataframe tbody tr th {\n",
       "        vertical-align: top;\n",
       "    }\n",
       "\n",
       "    .dataframe thead th {\n",
       "        text-align: right;\n",
       "    }\n",
       "</style>\n",
       "<table border=\"1\" class=\"dataframe\">\n",
       "  <thead>\n",
       "    <tr style=\"text-align: right;\">\n",
       "      <th></th>\n",
       "      <th>hypothesis</th>\n",
       "      <th>reach</th>\n",
       "      <th>impact</th>\n",
       "      <th>confidence</th>\n",
       "      <th>efforts</th>\n",
       "    </tr>\n",
       "  </thead>\n",
       "  <tbody>\n",
       "    <tr>\n",
       "      <th>0</th>\n",
       "      <td>Добавить два новых канала привлечения трафика,...</td>\n",
       "      <td>3</td>\n",
       "      <td>10</td>\n",
       "      <td>8</td>\n",
       "      <td>6</td>\n",
       "    </tr>\n",
       "    <tr>\n",
       "      <th>1</th>\n",
       "      <td>Запустить собственную службу доставки, что сок...</td>\n",
       "      <td>2</td>\n",
       "      <td>5</td>\n",
       "      <td>4</td>\n",
       "      <td>10</td>\n",
       "    </tr>\n",
       "    <tr>\n",
       "      <th>2</th>\n",
       "      <td>Добавить блоки рекомендаций товаров на сайт ин...</td>\n",
       "      <td>8</td>\n",
       "      <td>3</td>\n",
       "      <td>7</td>\n",
       "      <td>3</td>\n",
       "    </tr>\n",
       "    <tr>\n",
       "      <th>3</th>\n",
       "      <td>Изменить структура категорий, что увеличит кон...</td>\n",
       "      <td>8</td>\n",
       "      <td>3</td>\n",
       "      <td>3</td>\n",
       "      <td>8</td>\n",
       "    </tr>\n",
       "    <tr>\n",
       "      <th>4</th>\n",
       "      <td>Изменить цвет фона главной страницы, чтобы уве...</td>\n",
       "      <td>3</td>\n",
       "      <td>1</td>\n",
       "      <td>1</td>\n",
       "      <td>1</td>\n",
       "    </tr>\n",
       "    <tr>\n",
       "      <th>5</th>\n",
       "      <td>Добавить страницу отзывов клиентов о магазине,...</td>\n",
       "      <td>3</td>\n",
       "      <td>2</td>\n",
       "      <td>2</td>\n",
       "      <td>3</td>\n",
       "    </tr>\n",
       "    <tr>\n",
       "      <th>6</th>\n",
       "      <td>Показать на главной странице баннеры с актуаль...</td>\n",
       "      <td>5</td>\n",
       "      <td>3</td>\n",
       "      <td>8</td>\n",
       "      <td>3</td>\n",
       "    </tr>\n",
       "    <tr>\n",
       "      <th>7</th>\n",
       "      <td>Добавить форму подписки на все основные страни...</td>\n",
       "      <td>10</td>\n",
       "      <td>7</td>\n",
       "      <td>8</td>\n",
       "      <td>5</td>\n",
       "    </tr>\n",
       "    <tr>\n",
       "      <th>8</th>\n",
       "      <td>Запустить акцию, дающую скидку на товар в день...</td>\n",
       "      <td>1</td>\n",
       "      <td>9</td>\n",
       "      <td>9</td>\n",
       "      <td>5</td>\n",
       "    </tr>\n",
       "  </tbody>\n",
       "</table>\n",
       "</div>"
      ],
      "text/plain": [
       "                                          hypothesis  reach  impact  \\\n",
       "0  Добавить два новых канала привлечения трафика,...      3      10   \n",
       "1  Запустить собственную службу доставки, что сок...      2       5   \n",
       "2  Добавить блоки рекомендаций товаров на сайт ин...      8       3   \n",
       "3  Изменить структура категорий, что увеличит кон...      8       3   \n",
       "4  Изменить цвет фона главной страницы, чтобы уве...      3       1   \n",
       "5  Добавить страницу отзывов клиентов о магазине,...      3       2   \n",
       "6  Показать на главной странице баннеры с актуаль...      5       3   \n",
       "7  Добавить форму подписки на все основные страни...     10       7   \n",
       "8  Запустить акцию, дающую скидку на товар в день...      1       9   \n",
       "\n",
       "   confidence  efforts  \n",
       "0           8        6  \n",
       "1           4       10  \n",
       "2           7        3  \n",
       "3           3        8  \n",
       "4           1        1  \n",
       "5           2        3  \n",
       "6           8        3  \n",
       "7           8        5  \n",
       "8           9        5  "
      ]
     },
     "execution_count": 14,
     "metadata": {},
     "output_type": "execute_result"
    }
   ],
   "source": [
    "hypothesis"
   ]
  },
  {
   "cell_type": "markdown",
   "id": "fc4c288d",
   "metadata": {},
   "source": [
    "ICE score = (Impact x Confidence) / Efforts"
   ]
  },
  {
   "cell_type": "markdown",
   "id": "5ba14a24",
   "metadata": {},
   "source": [
    "### ICE"
   ]
  },
  {
   "cell_type": "code",
   "execution_count": 15,
   "id": "a0fdb045",
   "metadata": {},
   "outputs": [
    {
     "data": {
      "text/html": [
       "<div>\n",
       "<style scoped>\n",
       "    .dataframe tbody tr th:only-of-type {\n",
       "        vertical-align: middle;\n",
       "    }\n",
       "\n",
       "    .dataframe tbody tr th {\n",
       "        vertical-align: top;\n",
       "    }\n",
       "\n",
       "    .dataframe thead th {\n",
       "        text-align: right;\n",
       "    }\n",
       "</style>\n",
       "<table border=\"1\" class=\"dataframe\">\n",
       "  <thead>\n",
       "    <tr style=\"text-align: right;\">\n",
       "      <th></th>\n",
       "      <th>hypothesis</th>\n",
       "      <th>ICE</th>\n",
       "    </tr>\n",
       "  </thead>\n",
       "  <tbody>\n",
       "    <tr>\n",
       "      <th>8</th>\n",
       "      <td>Запустить акцию, дающую скидку на товар в день...</td>\n",
       "      <td>16.200000</td>\n",
       "    </tr>\n",
       "    <tr>\n",
       "      <th>0</th>\n",
       "      <td>Добавить два новых канала привлечения трафика,...</td>\n",
       "      <td>13.333333</td>\n",
       "    </tr>\n",
       "    <tr>\n",
       "      <th>7</th>\n",
       "      <td>Добавить форму подписки на все основные страни...</td>\n",
       "      <td>11.200000</td>\n",
       "    </tr>\n",
       "    <tr>\n",
       "      <th>6</th>\n",
       "      <td>Показать на главной странице баннеры с актуаль...</td>\n",
       "      <td>8.000000</td>\n",
       "    </tr>\n",
       "    <tr>\n",
       "      <th>2</th>\n",
       "      <td>Добавить блоки рекомендаций товаров на сайт ин...</td>\n",
       "      <td>7.000000</td>\n",
       "    </tr>\n",
       "    <tr>\n",
       "      <th>1</th>\n",
       "      <td>Запустить собственную службу доставки, что сок...</td>\n",
       "      <td>2.000000</td>\n",
       "    </tr>\n",
       "    <tr>\n",
       "      <th>5</th>\n",
       "      <td>Добавить страницу отзывов клиентов о магазине,...</td>\n",
       "      <td>1.333333</td>\n",
       "    </tr>\n",
       "    <tr>\n",
       "      <th>3</th>\n",
       "      <td>Изменить структура категорий, что увеличит кон...</td>\n",
       "      <td>1.125000</td>\n",
       "    </tr>\n",
       "    <tr>\n",
       "      <th>4</th>\n",
       "      <td>Изменить цвет фона главной страницы, чтобы уве...</td>\n",
       "      <td>1.000000</td>\n",
       "    </tr>\n",
       "  </tbody>\n",
       "</table>\n",
       "</div>"
      ],
      "text/plain": [
       "                                          hypothesis        ICE\n",
       "8  Запустить акцию, дающую скидку на товар в день...  16.200000\n",
       "0  Добавить два новых канала привлечения трафика,...  13.333333\n",
       "7  Добавить форму подписки на все основные страни...  11.200000\n",
       "6  Показать на главной странице баннеры с актуаль...   8.000000\n",
       "2  Добавить блоки рекомендаций товаров на сайт ин...   7.000000\n",
       "1  Запустить собственную службу доставки, что сок...   2.000000\n",
       "5  Добавить страницу отзывов клиентов о магазине,...   1.333333\n",
       "3  Изменить структура категорий, что увеличит кон...   1.125000\n",
       "4  Изменить цвет фона главной страницы, чтобы уве...   1.000000"
      ]
     },
     "metadata": {},
     "output_type": "display_data"
    }
   ],
   "source": [
    "# посчитаем показатель, добавив столбец с его значением в таблицу\n",
    "hypothesis['ICE'] = (hypothesis['impact'] * hypothesis['confidence'])/ hypothesis['efforts']\n",
    "display (hypothesis.sort_values(by='ICE', ascending=False)[['hypothesis', 'ICE']])"
   ]
  },
  {
   "cell_type": "markdown",
   "id": "d9069a8d",
   "metadata": {},
   "source": [
    "### RICE"
   ]
  },
  {
   "cell_type": "markdown",
   "id": "5ab8794f",
   "metadata": {},
   "source": [
    "RICE score = (reach * impact * confidence) / efforts"
   ]
  },
  {
   "cell_type": "code",
   "execution_count": 16,
   "id": "e260eec0",
   "metadata": {
    "scrolled": true
   },
   "outputs": [
    {
     "data": {
      "text/html": [
       "<div>\n",
       "<style scoped>\n",
       "    .dataframe tbody tr th:only-of-type {\n",
       "        vertical-align: middle;\n",
       "    }\n",
       "\n",
       "    .dataframe tbody tr th {\n",
       "        vertical-align: top;\n",
       "    }\n",
       "\n",
       "    .dataframe thead th {\n",
       "        text-align: right;\n",
       "    }\n",
       "</style>\n",
       "<table border=\"1\" class=\"dataframe\">\n",
       "  <thead>\n",
       "    <tr style=\"text-align: right;\">\n",
       "      <th></th>\n",
       "      <th>hypothesis</th>\n",
       "      <th>RICE</th>\n",
       "    </tr>\n",
       "  </thead>\n",
       "  <tbody>\n",
       "    <tr>\n",
       "      <th>7</th>\n",
       "      <td>Добавить форму подписки на все основные страни...</td>\n",
       "      <td>112.0</td>\n",
       "    </tr>\n",
       "    <tr>\n",
       "      <th>2</th>\n",
       "      <td>Добавить блоки рекомендаций товаров на сайт ин...</td>\n",
       "      <td>56.0</td>\n",
       "    </tr>\n",
       "    <tr>\n",
       "      <th>0</th>\n",
       "      <td>Добавить два новых канала привлечения трафика,...</td>\n",
       "      <td>40.0</td>\n",
       "    </tr>\n",
       "    <tr>\n",
       "      <th>6</th>\n",
       "      <td>Показать на главной странице баннеры с актуаль...</td>\n",
       "      <td>40.0</td>\n",
       "    </tr>\n",
       "    <tr>\n",
       "      <th>8</th>\n",
       "      <td>Запустить акцию, дающую скидку на товар в день...</td>\n",
       "      <td>16.2</td>\n",
       "    </tr>\n",
       "    <tr>\n",
       "      <th>3</th>\n",
       "      <td>Изменить структура категорий, что увеличит кон...</td>\n",
       "      <td>9.0</td>\n",
       "    </tr>\n",
       "    <tr>\n",
       "      <th>1</th>\n",
       "      <td>Запустить собственную службу доставки, что сок...</td>\n",
       "      <td>4.0</td>\n",
       "    </tr>\n",
       "    <tr>\n",
       "      <th>5</th>\n",
       "      <td>Добавить страницу отзывов клиентов о магазине,...</td>\n",
       "      <td>4.0</td>\n",
       "    </tr>\n",
       "    <tr>\n",
       "      <th>4</th>\n",
       "      <td>Изменить цвет фона главной страницы, чтобы уве...</td>\n",
       "      <td>3.0</td>\n",
       "    </tr>\n",
       "  </tbody>\n",
       "</table>\n",
       "</div>"
      ],
      "text/plain": [
       "                                          hypothesis   RICE\n",
       "7  Добавить форму подписки на все основные страни...  112.0\n",
       "2  Добавить блоки рекомендаций товаров на сайт ин...   56.0\n",
       "0  Добавить два новых канала привлечения трафика,...   40.0\n",
       "6  Показать на главной странице баннеры с актуаль...   40.0\n",
       "8  Запустить акцию, дающую скидку на товар в день...   16.2\n",
       "3  Изменить структура категорий, что увеличит кон...    9.0\n",
       "1  Запустить собственную службу доставки, что сок...    4.0\n",
       "5  Добавить страницу отзывов клиентов о магазине,...    4.0\n",
       "4  Изменить цвет фона главной страницы, чтобы уве...    3.0"
      ]
     },
     "metadata": {},
     "output_type": "display_data"
    }
   ],
   "source": [
    "# посчитаем показатель, добавив столбец с его значением в таблицу\n",
    "hypothesis['RICE'] = (hypothesis['reach'] * hypothesis['impact'] * hypothesis['confidence']) / hypothesis['efforts']\n",
    "display (hypothesis.sort_values(by='RICE', ascending=False)[['hypothesis', 'RICE']])"
   ]
  },
  {
   "cell_type": "markdown",
   "id": "23bae623",
   "metadata": {},
   "source": [
    "### Выводы"
   ]
  },
  {
   "cell_type": "markdown",
   "id": "55898b0d",
   "metadata": {},
   "source": [
    "**При применении RICE вместо ICE:**\n",
    "- гипотеза 8 опустилась с первого места: она **затрагивает мало пользователей** и относительно сильно затратна\n",
    "- гипотеза 2 заметно поднялась в рейтинга до 2ого места: очень высокие показатели в числителе, в частности, она **затронет очень много пользователей**\n",
    "- гипотеза 4 так и осталась на последнем месте: очень низкие все показатели"
   ]
  },
  {
   "cell_type": "markdown",
   "id": "0f45c462",
   "metadata": {},
   "source": [
    "## Анализ A/B-теста"
   ]
  },
  {
   "cell_type": "code",
   "execution_count": 17,
   "id": "3d5820f2",
   "metadata": {},
   "outputs": [],
   "source": [
    "# приведем дату в нужный формат\n",
    "orders['date'] = orders['date'].map(\n",
    "    lambda x: dt.datetime.strptime(x, '%Y-%m-%d')\n",
    ")\n",
    "\n",
    "visitors['date'] = visitors['date'].map(\n",
    "    lambda x: dt.datetime.strptime(x, '%Y-%m-%d')\n",
    ")"
   ]
  },
  {
   "cell_type": "code",
   "execution_count": 18,
   "id": "66b84c25",
   "metadata": {},
   "outputs": [
    {
     "data": {
      "text/html": [
       "<div>\n",
       "<style scoped>\n",
       "    .dataframe tbody tr th:only-of-type {\n",
       "        vertical-align: middle;\n",
       "    }\n",
       "\n",
       "    .dataframe tbody tr th {\n",
       "        vertical-align: top;\n",
       "    }\n",
       "\n",
       "    .dataframe thead th {\n",
       "        text-align: right;\n",
       "    }\n",
       "</style>\n",
       "<table border=\"1\" class=\"dataframe\">\n",
       "  <thead>\n",
       "    <tr style=\"text-align: right;\">\n",
       "      <th></th>\n",
       "      <th>transactionId</th>\n",
       "      <th>visitorId</th>\n",
       "      <th>date</th>\n",
       "      <th>revenue</th>\n",
       "      <th>group</th>\n",
       "    </tr>\n",
       "  </thead>\n",
       "  <tbody>\n",
       "    <tr>\n",
       "      <th>0</th>\n",
       "      <td>3667963787</td>\n",
       "      <td>3312258926</td>\n",
       "      <td>2019-08-15</td>\n",
       "      <td>1650</td>\n",
       "      <td>B</td>\n",
       "    </tr>\n",
       "    <tr>\n",
       "      <th>1</th>\n",
       "      <td>2804400009</td>\n",
       "      <td>3642806036</td>\n",
       "      <td>2019-08-15</td>\n",
       "      <td>730</td>\n",
       "      <td>B</td>\n",
       "    </tr>\n",
       "    <tr>\n",
       "      <th>3</th>\n",
       "      <td>3797467345</td>\n",
       "      <td>1196621759</td>\n",
       "      <td>2019-08-15</td>\n",
       "      <td>9759</td>\n",
       "      <td>B</td>\n",
       "    </tr>\n",
       "    <tr>\n",
       "      <th>4</th>\n",
       "      <td>2282983706</td>\n",
       "      <td>2322279887</td>\n",
       "      <td>2019-08-15</td>\n",
       "      <td>2308</td>\n",
       "      <td>B</td>\n",
       "    </tr>\n",
       "    <tr>\n",
       "      <th>5</th>\n",
       "      <td>182168103</td>\n",
       "      <td>935554773</td>\n",
       "      <td>2019-08-15</td>\n",
       "      <td>2210</td>\n",
       "      <td>B</td>\n",
       "    </tr>\n",
       "  </tbody>\n",
       "</table>\n",
       "</div>"
      ],
      "text/plain": [
       "   transactionId   visitorId       date  revenue group\n",
       "0     3667963787  3312258926 2019-08-15     1650     B\n",
       "1     2804400009  3642806036 2019-08-15      730     B\n",
       "3     3797467345  1196621759 2019-08-15     9759     B\n",
       "4     2282983706  2322279887 2019-08-15     2308     B\n",
       "5      182168103   935554773 2019-08-15     2210     B"
      ]
     },
     "execution_count": 18,
     "metadata": {},
     "output_type": "execute_result"
    }
   ],
   "source": [
    "orders.head()"
   ]
  },
  {
   "cell_type": "code",
   "execution_count": 19,
   "id": "72d34281",
   "metadata": {},
   "outputs": [
    {
     "data": {
      "text/html": [
       "<div>\n",
       "<style scoped>\n",
       "    .dataframe tbody tr th:only-of-type {\n",
       "        vertical-align: middle;\n",
       "    }\n",
       "\n",
       "    .dataframe tbody tr th {\n",
       "        vertical-align: top;\n",
       "    }\n",
       "\n",
       "    .dataframe thead th {\n",
       "        text-align: right;\n",
       "    }\n",
       "</style>\n",
       "<table border=\"1\" class=\"dataframe\">\n",
       "  <thead>\n",
       "    <tr style=\"text-align: right;\">\n",
       "      <th></th>\n",
       "      <th>date</th>\n",
       "      <th>group</th>\n",
       "      <th>visitors</th>\n",
       "    </tr>\n",
       "  </thead>\n",
       "  <tbody>\n",
       "    <tr>\n",
       "      <th>0</th>\n",
       "      <td>2019-08-01</td>\n",
       "      <td>A</td>\n",
       "      <td>719</td>\n",
       "    </tr>\n",
       "    <tr>\n",
       "      <th>1</th>\n",
       "      <td>2019-08-02</td>\n",
       "      <td>A</td>\n",
       "      <td>619</td>\n",
       "    </tr>\n",
       "    <tr>\n",
       "      <th>2</th>\n",
       "      <td>2019-08-03</td>\n",
       "      <td>A</td>\n",
       "      <td>507</td>\n",
       "    </tr>\n",
       "    <tr>\n",
       "      <th>3</th>\n",
       "      <td>2019-08-04</td>\n",
       "      <td>A</td>\n",
       "      <td>717</td>\n",
       "    </tr>\n",
       "    <tr>\n",
       "      <th>4</th>\n",
       "      <td>2019-08-05</td>\n",
       "      <td>A</td>\n",
       "      <td>756</td>\n",
       "    </tr>\n",
       "  </tbody>\n",
       "</table>\n",
       "</div>"
      ],
      "text/plain": [
       "        date group  visitors\n",
       "0 2019-08-01     A       719\n",
       "1 2019-08-02     A       619\n",
       "2 2019-08-03     A       507\n",
       "3 2019-08-04     A       717\n",
       "4 2019-08-05     A       756"
      ]
     },
     "execution_count": 19,
     "metadata": {},
     "output_type": "execute_result"
    }
   ],
   "source": [
    "visitors.head()"
   ]
  },
  {
   "cell_type": "code",
   "execution_count": 20,
   "id": "e4488476",
   "metadata": {},
   "outputs": [],
   "source": [
    "# подготовим данные для анализа кумулятивных показателей\n",
    "datesGroups = orders[['date', 'group']].drop_duplicates()\n",
    "\n",
    "ordersAggregated = datesGroups.apply(\n",
    "    lambda x: orders[\n",
    "        np.logical_and(\n",
    "            orders['date'] <= x['date'], orders['group'] == x['group']\n",
    "        )\n",
    "    ].agg(\n",
    "        {\n",
    "            'date': 'max',\n",
    "            'group': 'max',\n",
    "            'transactionId': 'nunique',\n",
    "            'visitorId': 'nunique',\n",
    "            'revenue': 'sum',\n",
    "        }\n",
    "    ),\n",
    "    axis=1,\n",
    ").sort_values(by=['date', 'group'])\n",
    "\n",
    "visitorsAggregated = datesGroups.apply(\n",
    "    lambda x: visitors[\n",
    "        np.logical_and(\n",
    "            visitors['date'] <= x['date'], visitors['group'] == x['group']\n",
    "        )\n",
    "    ].agg({'date': 'max', 'group': 'max', 'visitors': 'sum'}),\n",
    "    axis=1,\n",
    ").sort_values(by=['date', 'group'])\n",
    "\n",
    "cumulativeData = ordersAggregated.merge(\n",
    "    visitorsAggregated, left_on=['date', 'group'], right_on=['date', 'group']\n",
    ")\n",
    "cumulativeData.columns = [\n",
    "    'date',\n",
    "    'group',\n",
    "    'orders',\n",
    "    'buyers',\n",
    "    'revenue',\n",
    "    'visitors',\n",
    "]\n",
    "\n",
    "cumulativeRevenueA = cumulativeData[cumulativeData['group']=='A'][['date','revenue', 'orders']]\n",
    "\n",
    "cumulativeRevenueB = cumulativeData[cumulativeData['group']=='B'][['date','revenue', 'orders']]"
   ]
  },
  {
   "cell_type": "markdown",
   "id": "7d003b37",
   "metadata": {},
   "source": [
    "### Кумулятивная выручка по группам"
   ]
  },
  {
   "cell_type": "code",
   "execution_count": 21,
   "id": "1b744137",
   "metadata": {
    "scrolled": true
   },
   "outputs": [
    {
     "data": {
      "text/plain": [
       "Text(0.5, 1.0, 'Кумулятивная выручка по группам')"
      ]
     },
     "execution_count": 21,
     "metadata": {},
     "output_type": "execute_result"
    },
    {
     "data": {
      "image/png": "[encoded data removed]",
      "text/plain": [
       "<Figure size 720x360 with 1 Axes>"
      ]
     },
     "metadata": {
      "needs_background": "light"
     },
     "output_type": "display_data"
    }
   ],
   "source": [
    "plt.figure(figsize=(10, 5))\n",
    "plt.plot(cumulativeRevenueA['date'], cumulativeRevenueA['revenue'], label='A')\n",
    "plt.plot(cumulativeRevenueB['date'], cumulativeRevenueB['revenue'], label='B')\n",
    "plt.legend()\n",
    "plt.xlabel('дата')\n",
    "plt.ylabel('кумулятивная выручка')\n",
    "plt.title('Кумулятивная выручка по группам')"
   ]
  },
  {
   "cell_type": "markdown",
   "id": "3ba84552",
   "metadata": {},
   "source": [
    "#### Описание "
   ]
  },
  {
   "cell_type": "markdown",
   "id": "e2ee54ce",
   "metadata": {},
   "source": [
    "Кумулятивная выручка обеих групп растет, однако с середины графика видно превосходство группы B. В этой группе произошел резкий скачок, который значительно увеличил выручку пользователей этого сегмента."
   ]
  },
  {
   "cell_type": "markdown",
   "id": "c6b45cad",
   "metadata": {},
   "source": [
    "### Кумулятивный средний чек по группам"
   ]
  },
  {
   "cell_type": "code",
   "execution_count": 22,
   "id": "3b0fbbf4",
   "metadata": {},
   "outputs": [
    {
     "data": {
      "text/plain": [
       "Text(0.5, 1.0, 'Кумулятивный средний чек по группам')"
      ]
     },
     "execution_count": 22,
     "metadata": {},
     "output_type": "execute_result"
    },
    {
     "data": {
      "image/png": "[encoded data removed]",
      "text/plain": [
       "<Figure size 720x360 with 1 Axes>"
      ]
     },
     "metadata": {
      "needs_background": "light"
     },
     "output_type": "display_data"
    }
   ],
   "source": [
    "plt.figure(figsize=(10, 5))\n",
    "plt.plot(cumulativeRevenueA['date'], cumulativeRevenueA['revenue']/cumulativeRevenueA['orders'], label='A')\n",
    "plt.plot(cumulativeRevenueB['date'], cumulativeRevenueB['revenue']/cumulativeRevenueB['orders'], label='B')\n",
    "plt.legend() \n",
    "plt.xlabel('дата')\n",
    "plt.ylabel('кумулятивный средний чек')\n",
    "plt.title('Кумулятивный средний чек по группам')"
   ]
  },
  {
   "cell_type": "markdown",
   "id": "4ff2e78c",
   "metadata": {},
   "source": [
    "#### Описание"
   ]
  },
  {
   "cell_type": "markdown",
   "id": "bfd6b44e",
   "metadata": {},
   "source": [
    "Как и со средней выручкой, в середине анализируемого периода для группы B случился резкий скачок, который значительно увеличил средний чек пользователей в сравнении с результатами другой группы. Однако, несмотря на превосходство, средний чек группы В постепенно снижается и приближается к группе А."
   ]
  },
  {
   "cell_type": "markdown",
   "id": "f8fd2c76",
   "metadata": {},
   "source": [
    "### Относительное изменение кумулятивного среднего чека группы B к группе A."
   ]
  },
  {
   "cell_type": "code",
   "execution_count": 23,
   "id": "d3b08359",
   "metadata": {
    "scrolled": true
   },
   "outputs": [
    {
     "data": {
      "text/plain": [
       "Text(0.5, 1.0, 'Относительное изменение кумулятивного среднего чека группы B к группе A')"
      ]
     },
     "execution_count": 23,
     "metadata": {},
     "output_type": "execute_result"
    },
    {
     "data": {
      "image/png": "[encoded data removed]",
      "text/plain": [
       "<Figure size 720x360 with 1 Axes>"
      ]
     },
     "metadata": {
      "needs_background": "light"
     },
     "output_type": "display_data"
    }
   ],
   "source": [
    "mergedCumulativeRevenue = cumulativeRevenueA.merge(cumulativeRevenueB, left_on='date', right_on='date', how='left', suffixes=['A', 'B'])\n",
    "\n",
    "plt.figure(figsize=(10, 5))\n",
    "# cтроим отношение средних чеков\n",
    "plt.plot(mergedCumulativeRevenue['date'], (mergedCumulativeRevenue['revenueB']/mergedCumulativeRevenue['ordersB'])/(mergedCumulativeRevenue['revenueA']/mergedCumulativeRevenue['ordersA'])-1)\n",
    "\n",
    "# добавляем ось X\n",
    "plt.axhline(y=0, color='black', linestyle='--')\n",
    "plt.xlabel('дата')\n",
    "plt.ylabel('изменение')\n",
    "plt.title('Относительное изменение кумулятивного среднего чека группы B к группе A')"
   ]
  },
  {
   "cell_type": "markdown",
   "id": "c5f37494",
   "metadata": {},
   "source": [
    "#### Описание"
   ]
  },
  {
   "cell_type": "markdown",
   "id": "96d84fe6",
   "metadata": {},
   "source": [
    "Наибольшее изменение заметно во второй половине анализируемого периода, когда группа B значительно оторвалась от группы А. Однако та же тенденция: снижение отличий наблюдается к концу периода."
   ]
  },
  {
   "cell_type": "markdown",
   "id": "31ee40f0",
   "metadata": {},
   "source": [
    "### Кумулятивная конверсия по группам"
   ]
  },
  {
   "cell_type": "code",
   "execution_count": 24,
   "id": "47c0d432",
   "metadata": {
    "scrolled": true
   },
   "outputs": [
    {
     "data": {
      "text/plain": [
       "Text(0.5, 1.0, 'Кумулятивная конверсия по группам')"
      ]
     },
     "execution_count": 24,
     "metadata": {},
     "output_type": "execute_result"
    },
    {
     "data": {
      "image/png": "[encoded data removed]",
      "text/plain": [
       "<Figure size 720x360 with 1 Axes>"
      ]
     },
     "metadata": {
      "needs_background": "light"
     },
     "output_type": "display_data"
    }
   ],
   "source": [
    "cumulativeData['conversion'] = cumulativeData['orders']/cumulativeData['visitors']\n",
    "\n",
    "plt.figure(figsize=(10, 5))\n",
    "# отделяем данные по группе A\n",
    "cumulativeDataA = cumulativeData[cumulativeData['group']=='A']\n",
    "\n",
    "# отделяем данные по группе B\n",
    "cumulativeDataB = cumulativeData[cumulativeData['group']=='B']\n",
    "\n",
    "# строим графики\n",
    "plt.plot(cumulativeDataA['date'], cumulativeDataA['conversion'], label='A')\n",
    "plt.plot(cumulativeDataB['date'], cumulativeDataB['conversion'], label='B')\n",
    "plt.legend()\n",
    "plt.xlabel('дата')\n",
    "plt.ylabel('конверсия')\n",
    "plt.title('Кумулятивная конверсия по группам')"
   ]
  },
  {
   "cell_type": "markdown",
   "id": "9bc41165",
   "metadata": {},
   "source": [
    "#### Описание"
   ]
  },
  {
   "cell_type": "markdown",
   "id": "ede3dc21",
   "metadata": {},
   "source": [
    "В начале анализируемого периода коеврсия обеих групп сильно менялась, однако с 5 августа показатель для группы B стал значительно превышать другую группу. Однако у группы B наблюдается тренд к снижению конверсии, в то время как показатель группы А нелинейно, но увеличивается (если сравнивать 13 августа и 1 сентября)."
   ]
  },
  {
   "cell_type": "markdown",
   "id": "3fc57748",
   "metadata": {},
   "source": [
    "### Относительное изменение кумулятивной конверсии группы B к группе A"
   ]
  },
  {
   "cell_type": "code",
   "execution_count": 25,
   "id": "dce1e23e",
   "metadata": {
    "scrolled": true
   },
   "outputs": [
    {
     "data": {
      "text/plain": [
       "Text(0.5, 1.0, 'Относительное изменение кумулятивной конверсии группы B к группе A')"
      ]
     },
     "execution_count": 25,
     "metadata": {},
     "output_type": "execute_result"
    },
    {
     "data": {
      "image/png": "[encoded data removed]",
      "text/plain": [
       "<Figure size 720x360 with 1 Axes>"
      ]
     },
     "metadata": {
      "needs_background": "light"
     },
     "output_type": "display_data"
    }
   ],
   "source": [
    "mergedCumulativeConversions = cumulativeDataA[['date','conversion']].merge(cumulativeDataB[['date','conversion']], left_on='date', right_on='date', how='left', suffixes=['A', 'B'])\n",
    "\n",
    "plt.figure(figsize=(10, 5))\n",
    "plt.plot(mergedCumulativeConversions['date'], mergedCumulativeConversions['conversionB']/mergedCumulativeConversions['conversionA']-1, label=\"Относительный прирост конверсии группы B относительно группы A\")\n",
    "plt.legend()\n",
    "\n",
    "plt.axhline(y=0, color='black', linestyle='--')\n",
    "plt.axhline(y=0.2, color='grey', linestyle='--')\n",
    "plt.xlabel('дата')\n",
    "plt.ylabel('изменение')\n",
    "plt.title('Относительное изменение кумулятивной конверсии группы B к группе A')"
   ]
  },
  {
   "cell_type": "markdown",
   "id": "9c8f7b06",
   "metadata": {},
   "source": [
    "#### Описание"
   ]
  },
  {
   "cell_type": "markdown",
   "id": "2b0f34f6",
   "metadata": {},
   "source": [
    "Значительное превышение конверсии группы B стало наблюдаться с середины августа (когда кумулятивная конверсия этой группы установилась выше группы А. Однако заметен трнед на уменьшение разницы. "
   ]
  },
  {
   "cell_type": "markdown",
   "id": "0bb47364",
   "metadata": {},
   "source": [
    "### Количество заказов по пользователям"
   ]
  },
  {
   "cell_type": "code",
   "execution_count": 26,
   "id": "8173701e",
   "metadata": {},
   "outputs": [
    {
     "data": {
      "text/html": [
       "<div>\n",
       "<style scoped>\n",
       "    .dataframe tbody tr th:only-of-type {\n",
       "        vertical-align: middle;\n",
       "    }\n",
       "\n",
       "    .dataframe tbody tr th {\n",
       "        vertical-align: top;\n",
       "    }\n",
       "\n",
       "    .dataframe thead th {\n",
       "        text-align: right;\n",
       "    }\n",
       "</style>\n",
       "<table border=\"1\" class=\"dataframe\">\n",
       "  <thead>\n",
       "    <tr style=\"text-align: right;\">\n",
       "      <th></th>\n",
       "      <th>transactionId</th>\n",
       "      <th>visitorId</th>\n",
       "      <th>date</th>\n",
       "      <th>revenue</th>\n",
       "      <th>group</th>\n",
       "    </tr>\n",
       "  </thead>\n",
       "  <tbody>\n",
       "    <tr>\n",
       "      <th>0</th>\n",
       "      <td>3667963787</td>\n",
       "      <td>3312258926</td>\n",
       "      <td>2019-08-15</td>\n",
       "      <td>1650</td>\n",
       "      <td>B</td>\n",
       "    </tr>\n",
       "    <tr>\n",
       "      <th>1</th>\n",
       "      <td>2804400009</td>\n",
       "      <td>3642806036</td>\n",
       "      <td>2019-08-15</td>\n",
       "      <td>730</td>\n",
       "      <td>B</td>\n",
       "    </tr>\n",
       "    <tr>\n",
       "      <th>3</th>\n",
       "      <td>3797467345</td>\n",
       "      <td>1196621759</td>\n",
       "      <td>2019-08-15</td>\n",
       "      <td>9759</td>\n",
       "      <td>B</td>\n",
       "    </tr>\n",
       "    <tr>\n",
       "      <th>4</th>\n",
       "      <td>2282983706</td>\n",
       "      <td>2322279887</td>\n",
       "      <td>2019-08-15</td>\n",
       "      <td>2308</td>\n",
       "      <td>B</td>\n",
       "    </tr>\n",
       "    <tr>\n",
       "      <th>5</th>\n",
       "      <td>182168103</td>\n",
       "      <td>935554773</td>\n",
       "      <td>2019-08-15</td>\n",
       "      <td>2210</td>\n",
       "      <td>B</td>\n",
       "    </tr>\n",
       "  </tbody>\n",
       "</table>\n",
       "</div>"
      ],
      "text/plain": [
       "   transactionId   visitorId       date  revenue group\n",
       "0     3667963787  3312258926 2019-08-15     1650     B\n",
       "1     2804400009  3642806036 2019-08-15      730     B\n",
       "3     3797467345  1196621759 2019-08-15     9759     B\n",
       "4     2282983706  2322279887 2019-08-15     2308     B\n",
       "5      182168103   935554773 2019-08-15     2210     B"
      ]
     },
     "execution_count": 26,
     "metadata": {},
     "output_type": "execute_result"
    }
   ],
   "source": [
    "orders.head()"
   ]
  },
  {
   "cell_type": "code",
   "execution_count": 27,
   "id": "7c4c12ac",
   "metadata": {},
   "outputs": [
    {
     "name": "stdout",
     "output_type": "stream",
     "text": [
      "         userId  orders\n",
      "908  3967698036       3\n",
      "55    249864742       3\n",
      "478  2108163459       3\n",
      "687  2988190573       3\n",
      "890  3908431265       3\n",
      "138   611059232       3\n",
      "632  2742574263       3\n",
      "157   678354126       2\n",
      "323  1404560065       2\n",
      "452  1985475298       2\n"
     ]
    }
   ],
   "source": [
    "ordersByUsers = (\n",
    "    orders.groupby('visitorId', as_index=False)\n",
    "    .agg({'transactionId': 'nunique'})\n",
    ")\n",
    "\n",
    "ordersByUsers.columns = ['userId', 'orders']\n",
    "\n",
    "print(ordersByUsers.sort_values(by='orders', ascending=False).head(10))"
   ]
  },
  {
   "cell_type": "code",
   "execution_count": 28,
   "id": "72ac0fba",
   "metadata": {
    "scrolled": true
   },
   "outputs": [
    {
     "data": {
      "text/plain": [
       "Text(0.5, 1.0, 'Количество заказов по пользователям')"
      ]
     },
     "execution_count": 28,
     "metadata": {},
     "output_type": "execute_result"
    },
    {
     "data": {
      "image/png": "[encoded data removed]",
      "text/plain": [
       "<Figure size 720x360 with 1 Axes>"
      ]
     },
     "metadata": {
      "needs_background": "light"
     },
     "output_type": "display_data"
    }
   ],
   "source": [
    "x_values = pd.Series(range(0, len(ordersByUsers)))\n",
    "\n",
    "plt.figure(figsize=(10, 5))\n",
    "plt.scatter(x_values, ordersByUsers['orders']) \n",
    "plt.ylabel('количество заказов')\n",
    "plt.title('Количество заказов по пользователям')"
   ]
  },
  {
   "cell_type": "code",
   "execution_count": 29,
   "id": "47fe278f",
   "metadata": {
    "scrolled": true
   },
   "outputs": [
    {
     "name": "stdout",
     "output_type": "stream",
     "text": [
      "[1. 1. 2.]\n"
     ]
    }
   ],
   "source": [
    "print(np.percentile(ordersByUsers['orders'], [90, 95, 99])) "
   ]
  },
  {
   "cell_type": "markdown",
   "id": "abb183ae",
   "metadata": {},
   "source": [
    "#### Выводы и предположения"
   ]
  },
  {
   "cell_type": "markdown",
   "id": "f5c9e447",
   "metadata": {},
   "source": [
    "- Не более 5% пользователей заказывают больше 1 разa и не более 1% больше 4ех.\n",
    "- граница для определение аномальных пользователей: 3 и более заказов"
   ]
  },
  {
   "cell_type": "markdown",
   "id": "cb3a100d",
   "metadata": {},
   "source": [
    "### Стоимости заказов"
   ]
  },
  {
   "cell_type": "code",
   "execution_count": 30,
   "id": "472a0407",
   "metadata": {},
   "outputs": [
    {
     "data": {
      "text/plain": [
       "Text(0.5, 1.0, 'Стоимость заказов')"
      ]
     },
     "execution_count": 30,
     "metadata": {},
     "output_type": "execute_result"
    },
    {
     "data": {
      "image/png": "[encoded data removed]",
      "text/plain": [
       "<Figure size 720x360 with 1 Axes>"
      ]
     },
     "metadata": {
      "needs_background": "light"
     },
     "output_type": "display_data"
    }
   ],
   "source": [
    "x_values = pd.Series(range(0, len(orders['revenue'])))\n",
    "plt.figure(figsize=(10, 5))\n",
    "plt.scatter(x_values, orders['revenue']) \n",
    "plt.ylabel('стоимость заказа')\n",
    "plt.title('Стоимость заказов')"
   ]
  },
  {
   "cell_type": "code",
   "execution_count": 31,
   "id": "8035cddf",
   "metadata": {},
   "outputs": [
    {
     "data": {
      "text/plain": [
       "(0.0, 100000.0)"
      ]
     },
     "execution_count": 31,
     "metadata": {},
     "output_type": "execute_result"
    },
    {
     "data": {
      "image/png": "[encoded data removed]",
      "text/plain": [
       "<Figure size 720x360 with 1 Axes>"
      ]
     },
     "metadata": {
      "needs_background": "light"
     },
     "output_type": "display_data"
    }
   ],
   "source": [
    "x_values = pd.Series(range(0, len(orders['revenue'])))\n",
    "plt.figure(figsize=(10, 5))\n",
    "plt.scatter(x_values, orders['revenue']) \n",
    "plt.ylabel('стоимость заказа')\n",
    "plt.title('Стоимость заказов')\n",
    "plt.ylim(0, 100000)"
   ]
  },
  {
   "cell_type": "code",
   "execution_count": 32,
   "id": "d7816481",
   "metadata": {
    "scrolled": true
   },
   "outputs": [
    {
     "name": "stdout",
     "output_type": "stream",
     "text": [
      "[17990. 26785. 53904.]\n"
     ]
    }
   ],
   "source": [
    "print(np.percentile(orders['revenue'], [90, 95, 99])) "
   ]
  },
  {
   "cell_type": "markdown",
   "id": "2920eaf9",
   "metadata": {},
   "source": [
    "#### Выводы и предположения"
   ]
  },
  {
   "cell_type": "markdown",
   "id": "7fd67081",
   "metadata": {},
   "source": [
    "- не более 5% заказов выше 28 тысяч, не более 1% заказов выше 58 тысяч\n",
    "- граница для определения аномальных заказов: 28-30 тысяч рублей"
   ]
  },
  {
   "cell_type": "markdown",
   "id": "3f83da7f",
   "metadata": {},
   "source": [
    "### Статистическая значимость (конверсия)"
   ]
  },
  {
   "cell_type": "markdown",
   "id": "872eef8a",
   "metadata": {},
   "source": [
    "**Нулевая гипотеза:** конверсии обеих группы равны\n",
    "\n",
    "**Альтернативная гипотеза:** конверсии двух групп различаются"
   ]
  },
  {
   "cell_type": "markdown",
   "id": "06269387",
   "metadata": {},
   "source": [
    "#### \"Сырые\" данные"
   ]
  },
  {
   "cell_type": "code",
   "execution_count": 33,
   "id": "8bf0333b",
   "metadata": {
    "scrolled": true
   },
   "outputs": [
    {
     "data": {
      "text/html": [
       "<div>\n",
       "<style scoped>\n",
       "    .dataframe tbody tr th:only-of-type {\n",
       "        vertical-align: middle;\n",
       "    }\n",
       "\n",
       "    .dataframe tbody tr th {\n",
       "        vertical-align: top;\n",
       "    }\n",
       "\n",
       "    .dataframe thead th {\n",
       "        text-align: right;\n",
       "    }\n",
       "</style>\n",
       "<table border=\"1\" class=\"dataframe\">\n",
       "  <thead>\n",
       "    <tr style=\"text-align: right;\">\n",
       "      <th></th>\n",
       "      <th>visitorId</th>\n",
       "      <th>group</th>\n",
       "    </tr>\n",
       "  </thead>\n",
       "  <tbody>\n",
       "  </tbody>\n",
       "</table>\n",
       "</div>"
      ],
      "text/plain": [
       "Empty DataFrame\n",
       "Columns: [visitorId, group]\n",
       "Index: []"
      ]
     },
     "execution_count": 33,
     "metadata": {},
     "output_type": "execute_result"
    }
   ],
   "source": [
    "orders.groupby('visitorId')['group'].nunique().reset_index().query('group > 1').head()"
   ]
  },
  {
   "cell_type": "code",
   "execution_count": 34,
   "id": "3be5bc98",
   "metadata": {},
   "outputs": [],
   "source": [
    "both_users = orders.groupby('visitorId')['group'].nunique().reset_index().query('group > 1').head()"
   ]
  },
  {
   "cell_type": "code",
   "execution_count": 35,
   "id": "630ae80b",
   "metadata": {},
   "outputs": [
    {
     "name": "stdout",
     "output_type": "stream",
     "text": [
      "0.01102\n",
      "0.16\n"
     ]
    }
   ],
   "source": [
    "visitorsADaily = visitors[visitors['group'] == 'A'][['date', 'visitors']]\n",
    "visitorsADaily.columns = ['date', 'visitorsPerDateA']\n",
    "\n",
    "visitorsACummulative = visitorsADaily.apply(\n",
    "    lambda x: visitorsADaily[visitorsADaily['date'] <= x['date']].agg(\n",
    "        {'date': 'max', 'visitorsPerDateA': 'sum'}\n",
    "    ),\n",
    "    axis=1,\n",
    ")\n",
    "visitorsACummulative.columns = ['date', 'visitorsCummulativeA']\n",
    "\n",
    "visitorsBDaily = visitors[visitors['group'] == 'B'][['date', 'visitors']]\n",
    "visitorsBDaily.columns = ['date', 'visitorsPerDateB']\n",
    "\n",
    "visitorsBCummulative = visitorsBDaily.apply(\n",
    "    lambda x: visitorsBDaily[visitorsBDaily['date'] <= x['date']].agg(\n",
    "        {'date': 'max', 'visitorsPerDateB': 'sum'}\n",
    "    ),\n",
    "    axis=1,\n",
    ")\n",
    "visitorsBCummulative.columns = ['date', 'visitorsCummulativeB']\n",
    "\n",
    "ordersADaily = (\n",
    "    orders[orders['group'] == 'A'][['date', 'transactionId', 'visitorId', 'revenue']]\n",
    "    .groupby('date', as_index=False)\n",
    "    .agg({'transactionId': pd.Series.nunique, 'revenue': 'sum'})\n",
    ")\n",
    "ordersADaily.columns = ['date', 'ordersPerDateA', 'revenuePerDateA']\n",
    "\n",
    "ordersACummulative = ordersADaily.apply(\n",
    "    lambda x: ordersADaily[ordersADaily['date'] <= x['date']].agg(\n",
    "        {'date': 'max', 'ordersPerDateA': 'sum', 'revenuePerDateA': 'sum'}\n",
    "    ),\n",
    "    axis=1,\n",
    ").sort_values(by=['date'])\n",
    "ordersACummulative.columns = [\n",
    "    'date',\n",
    "    'ordersCummulativeA',\n",
    "    'revenueCummulativeA',\n",
    "]\n",
    "\n",
    "ordersBDaily = (\n",
    "    orders[orders['group'] == 'B'][['date', 'transactionId', 'visitorId', 'revenue']]\n",
    "    .groupby('date', as_index=False)\n",
    "    .agg({'transactionId': pd.Series.nunique, 'revenue': 'sum'})\n",
    ")\n",
    "ordersBDaily.columns = ['date', 'ordersPerDateB', 'revenuePerDateB']\n",
    "\n",
    "ordersBCummulative = ordersBDaily.apply(\n",
    "    lambda x: ordersBDaily[ordersBDaily['date'] <= x['date']].agg(\n",
    "        {'date': 'max', 'ordersPerDateB': 'sum', 'revenuePerDateB': 'sum'}\n",
    "    ),\n",
    "    axis=1,\n",
    ").sort_values(by=['date'])\n",
    "ordersBCummulative.columns = [\n",
    "    'date',\n",
    "    'ordersCummulativeB',\n",
    "    'revenueCummulativeB',\n",
    "]\n",
    "\n",
    "data = (\n",
    "    ordersADaily.merge(\n",
    "        ordersBDaily, left_on='date', right_on='date', how='left'\n",
    "    )\n",
    "    .merge(ordersACummulative, left_on='date', right_on='date', how='left')\n",
    "    .merge(ordersBCummulative, left_on='date', right_on='date', how='left')\n",
    "    .merge(visitorsADaily, left_on='date', right_on='date', how='left')\n",
    "    .merge(visitorsBDaily, left_on='date', right_on='date', how='left')\n",
    "    .merge(visitorsACummulative, left_on='date', right_on='date', how='left')\n",
    "    .merge(visitorsBCummulative, left_on='date', right_on='date', how='left')\n",
    ")\n",
    "\n",
    "\n",
    "ordersByUsersA = (\n",
    "    orders[orders['group'] == 'A']\n",
    "    .groupby('visitorId', as_index=False)\n",
    "    .agg({'transactionId': pd.Series.nunique})\n",
    ")\n",
    "ordersByUsersA.columns = ['userId', 'orders']\n",
    "\n",
    "ordersByUsersB = (\n",
    "    orders[orders['group'] == 'B']\n",
    "    .groupby('visitorId', as_index=False)\n",
    "    .agg({'transactionId': pd.Series.nunique})\n",
    ")\n",
    "ordersByUsersB.columns = ['userId', 'orders']\n",
    "\n",
    "sampleA = pd.concat([ordersByUsersA['orders'],pd.Series(0, index=np.arange(data['visitorsPerDateA'].sum() - len(ordersByUsersA['orders'])), name='orders')],axis=0)\n",
    "\n",
    "sampleB = pd.concat([ordersByUsersB['orders'],pd.Series(0, index=np.arange(data['visitorsPerDateB'].sum() - len(ordersByUsersB['orders'])), name='orders')],axis=0)\n",
    "\n",
    "ordersByUsersA = (\n",
    "    orders[orders['group'] == 'A']\n",
    "    .groupby('visitorId', as_index=False)\n",
    "    .agg({'transactionId': pd.Series.nunique})\n",
    ")\n",
    "ordersByUsersA.columns = ['userId', 'orders']\n",
    "\n",
    "ordersByUsersB = (\n",
    "    orders[orders['group'] == 'B']\n",
    "    .groupby('visitorId', as_index=False)\n",
    "    .agg({'transactionId': pd.Series.nunique})\n",
    ")\n",
    "ordersByUsersB.columns = ['userId', 'orders']\n",
    "\n",
    "sampleA = pd.concat(\n",
    "    [\n",
    "        ordersByUsersA['orders'],\n",
    "        pd.Series(\n",
    "            0,\n",
    "            index=np.arange(\n",
    "                data['visitorsPerDateA'].sum() - len(ordersByUsersA['orders'])\n",
    "            ),\n",
    "            name='orders',\n",
    "        ),\n",
    "    ],\n",
    "    axis=0,\n",
    ")\n",
    "\n",
    "sampleB = pd.concat(\n",
    "    [\n",
    "        ordersByUsersB['orders'],\n",
    "        pd.Series(\n",
    "            0,\n",
    "            index=np.arange(\n",
    "                data['visitorsPerDateB'].sum() - len(ordersByUsersB['orders'])\n",
    "            ),\n",
    "            name='orders',\n",
    "        ),\n",
    "    ],\n",
    "    axis=0,\n",
    ")\n",
    "\n",
    "print(\"{0:.5f}\".format(stats.mannwhitneyu(sampleA, sampleB)[1]))\n",
    "\n",
    "print(\"{0:.3}\".format(sampleB.mean() / sampleA.mean() - 1))\n"
   ]
  },
  {
   "cell_type": "markdown",
   "id": "a6f2be70",
   "metadata": {},
   "source": [
    "P-value значительно ниже 0.05, а значит, нулевую гипотезу о равенстве конверсии у обеих групп можно отвергнуть Относительное сравнение конверсии двух групп - 13.8%"
   ]
  },
  {
   "cell_type": "markdown",
   "id": "943c8f97",
   "metadata": {},
   "source": [
    "#### \"Очищенные\" данные"
   ]
  },
  {
   "cell_type": "markdown",
   "id": "796ddf3c",
   "metadata": {},
   "source": [
    "**Нулевая гипотеза:** конверсии обеих группы равны\n",
    "\n",
    "**Альтернативная гипотеза:** конверсии двух групп различаются"
   ]
  },
  {
   "cell_type": "code",
   "execution_count": 36,
   "id": "810cd3cb",
   "metadata": {},
   "outputs": [],
   "source": [
    "usersWithManyOrders = pd.concat(\n",
    "    [\n",
    "        ordersByUsersA[ordersByUsersA['orders'] > 3]['userId'],\n",
    "        ordersByUsersB[ordersByUsersB['orders'] > 3]['userId'],\n",
    "    ],\n",
    "    axis=0,\n",
    ")\n",
    "\n",
    "usersWithManyOrders = pd.concat(\n",
    "    [\n",
    "        ordersByUsersA[ordersByUsersA['orders'] > 3]['userId'],\n",
    "        ordersByUsersB[ordersByUsersB['orders'] > 3]['userId'],\n",
    "    ],\n",
    "    axis=0,\n",
    ")\n",
    "usersWithExpensiveOrders = orders[orders['revenue'] > 30000]['visitorId']\n",
    "abnormalUsers = (\n",
    "    pd.concat([usersWithManyOrders, usersWithExpensiveOrders], axis=0)\n",
    "    .drop_duplicates()\n",
    "    .sort_values()\n",
    ")"
   ]
  },
  {
   "cell_type": "code",
   "execution_count": 37,
   "id": "f922ec6e",
   "metadata": {},
   "outputs": [
    {
     "name": "stdout",
     "output_type": "stream",
     "text": [
      "0.01331\n",
      "0.161\n"
     ]
    }
   ],
   "source": [
    "sampleAFiltered = pd.concat(\n",
    "    [\n",
    "        ordersByUsersA[\n",
    "            np.logical_not(ordersByUsersA['userId'].isin(abnormalUsers))\n",
    "        ]['orders'],\n",
    "        pd.Series(\n",
    "            0,\n",
    "            index=np.arange(\n",
    "                data['visitorsPerDateA'].sum() - len(ordersByUsersA['orders'])\n",
    "            ),\n",
    "            name='orders',\n",
    "        ),\n",
    "    ],\n",
    "    axis=0,\n",
    ")\n",
    "\n",
    "sampleBFiltered = pd.concat(\n",
    "    [\n",
    "        ordersByUsersB[\n",
    "            np.logical_not(ordersByUsersB['userId'].isin(abnormalUsers))\n",
    "        ]['orders'],\n",
    "        pd.Series(\n",
    "            0,\n",
    "            index=np.arange(\n",
    "                data['visitorsPerDateB'].sum() - len(ordersByUsersB['orders'])\n",
    "            ),\n",
    "            name='orders',\n",
    "        ),\n",
    "    ],\n",
    "    axis=0,\n",
    ")\n",
    "print('{0:.5f}'.format(stats.mannwhitneyu(sampleAFiltered, sampleBFiltered)[1]))\n",
    "print('{0:.3f}'.format(sampleBFiltered.mean()/sampleAFiltered.mean()-1))"
   ]
  },
  {
   "cell_type": "markdown",
   "id": "28c89e8d",
   "metadata": {},
   "source": [
    "#### Выводы"
   ]
  },
  {
   "cell_type": "markdown",
   "id": "8e47dbdb",
   "metadata": {},
   "source": [
    "После очищения данных ситуация не изменилась: p-value и разница чуть увеличились, но тем не менее мы все еще должны отвергнуть нулевую гипотезу о равенстве конверсии в двух группах"
   ]
  },
  {
   "cell_type": "markdown",
   "id": "1a050733",
   "metadata": {},
   "source": [
    "### Статистическая значимость (средний чек)"
   ]
  },
  {
   "cell_type": "markdown",
   "id": "27dbc8dc",
   "metadata": {},
   "source": [
    "#### \"Сырые\" данные"
   ]
  },
  {
   "cell_type": "markdown",
   "id": "e25836bc",
   "metadata": {},
   "source": [
    "**Нулевая гипотеза:** средние чеки обеих группы равны\n",
    "\n",
    "**Альтернативная гипотеза:** средние чеки групп различаются"
   ]
  },
  {
   "cell_type": "code",
   "execution_count": 38,
   "id": "40f97bb4",
   "metadata": {},
   "outputs": [
    {
     "name": "stdout",
     "output_type": "stream",
     "text": [
      "0.829\n",
      "0.287\n"
     ]
    }
   ],
   "source": [
    "print('{0:.3f}'.format(stats.mannwhitneyu(orders[orders['group']=='A']['revenue'], orders[orders['group']=='B']['revenue'])[1]))\n",
    "print('{0:.3f}'.format(orders[orders['group']=='B']['revenue'].mean()/orders[orders['group']=='A']['revenue'].mean()-1))"
   ]
  },
  {
   "cell_type": "markdown",
   "id": "887188a4",
   "metadata": {},
   "source": [
    "P-value больше 0.05, а значит статистически значимых отличий в средних чеках друх групп нет. Нет оснований полагать, что средний чек сильно отличается в зависимости от группы, то есть A/B-тест не принес значимого результата"
   ]
  },
  {
   "cell_type": "markdown",
   "id": "96eaf2b6",
   "metadata": {},
   "source": [
    "#### \"Очищенные\" данные"
   ]
  },
  {
   "cell_type": "markdown",
   "id": "2120a518",
   "metadata": {},
   "source": [
    "**Нулевая гипотеза:** средние чеки обеих группы равны\n",
    "\n",
    "**Альтернативная гипотеза:** средние чеки групп различаются"
   ]
  },
  {
   "cell_type": "code",
   "execution_count": 39,
   "id": "a5523240",
   "metadata": {},
   "outputs": [
    {
     "name": "stdout",
     "output_type": "stream",
     "text": [
      "0.842\n"
     ]
    }
   ],
   "source": [
    "print(\n",
    "    '{0:.3f}'.format(\n",
    "        stats.mannwhitneyu(\n",
    "            orders[\n",
    "                np.logical_and(\n",
    "                    orders['group'] == 'A',\n",
    "                    np.logical_not(orders['visitorId'].isin(abnormalUsers)),\n",
    "                )\n",
    "            ]['revenue'],\n",
    "            orders[\n",
    "                np.logical_and(\n",
    "                    orders['group'] == 'B',\n",
    "                    np.logical_not(orders['visitorId'].isin(abnormalUsers)),\n",
    "                )\n",
    "            ]['revenue'],\n",
    "        )[1]\n",
    "    )\n",
    ")\n"
   ]
  },
  {
   "cell_type": "markdown",
   "id": "51365ee2",
   "metadata": {},
   "source": [
    "#### Выводы:"
   ]
  },
  {
   "cell_type": "markdown",
   "id": "dcd57e09",
   "metadata": {},
   "source": [
    "Статистической разницы все еще не появилось. Нет оснований полагать, что средний чек сильно отличается в зависимости от группы, то есть A/B-тест не принес значимого результата"
   ]
  },
  {
   "cell_type": "markdown",
   "id": "b17cbb70",
   "metadata": {},
   "source": [
    "## Выводы и решение:"
   ]
  },
  {
   "cell_type": "markdown",
   "id": "f6cdcc84",
   "metadata": {},
   "source": [
    "- по кумулятивной выручку и среднему чеку определенно лидирует группа В. НО средний чек группы B снижается\n",
    "- аномальные пользователи - те, кто заказывают более 3х раз\n",
    "- аномально большая стоимость заказа - от 30 тысяч\n",
    "- сравнение конверсии двух групп: в среднем конверсия группы В больше на 14%\n",
    "- сравнение среднего чека двух групп: статистически значимой разницы нет"
   ]
  },
  {
   "cell_type": "markdown",
   "id": "c39d3a01",
   "metadata": {},
   "source": [
    "Решение по результатам теста: **продолжать тест**. Так как непонятно, что дальше будет со средним чеком: если он начнет расти, то можно будет объявить победу группы В, в другом же случае - тест будет неудачным."
   ]
  }
 ],
 "metadata": {
  "ExecuteTimeLog": [
   {
    "duration": 1035,
    "start_time": "2022-06-03T07:31:32.538Z"
   },
   {
    "duration": 27,
    "start_time": "2022-06-03T07:31:33.575Z"
   },
   {
    "duration": 37,
    "start_time": "2022-06-03T07:31:33.603Z"
   },
   {
    "duration": 15,
    "start_time": "2022-06-03T07:31:33.641Z"
   },
   {
    "duration": 10,
    "start_time": "2022-06-03T07:31:33.659Z"
   },
   {
    "duration": 7,
    "start_time": "2022-06-03T07:31:33.671Z"
   },
   {
    "duration": 12,
    "start_time": "2022-06-03T07:31:33.679Z"
   },
   {
    "duration": 39,
    "start_time": "2022-06-03T07:31:33.692Z"
   },
   {
    "duration": 7,
    "start_time": "2022-06-03T07:31:33.752Z"
   },
   {
    "duration": 15,
    "start_time": "2022-06-03T07:31:33.761Z"
   },
   {
    "duration": 10,
    "start_time": "2022-06-03T07:31:33.777Z"
   },
   {
    "duration": 16,
    "start_time": "2022-06-03T07:31:33.788Z"
   },
   {
    "duration": 11,
    "start_time": "2022-06-03T07:31:33.805Z"
   },
   {
    "duration": 9,
    "start_time": "2022-06-03T07:31:33.819Z"
   },
   {
    "duration": 306,
    "start_time": "2022-06-03T07:31:33.829Z"
   },
   {
    "duration": 342,
    "start_time": "2022-06-03T07:31:34.137Z"
   },
   {
    "duration": 180,
    "start_time": "2022-06-03T07:31:34.480Z"
   },
   {
    "duration": 273,
    "start_time": "2022-06-03T07:31:34.662Z"
   },
   {
    "duration": 219,
    "start_time": "2022-06-03T07:31:34.937Z"
   },
   {
    "duration": 361,
    "start_time": "2022-06-03T07:31:35.158Z"
   },
   {
    "duration": 9,
    "start_time": "2022-06-03T07:31:35.520Z"
   },
   {
    "duration": 22,
    "start_time": "2022-06-03T07:31:35.530Z"
   },
   {
    "duration": 121,
    "start_time": "2022-06-03T07:31:35.554Z"
   },
   {
    "duration": 4,
    "start_time": "2022-06-03T07:31:35.677Z"
   },
   {
    "duration": 146,
    "start_time": "2022-06-03T07:31:35.683Z"
   },
   {
    "duration": 4,
    "start_time": "2022-06-03T07:31:35.831Z"
   },
   {
    "duration": 506,
    "start_time": "2022-06-03T07:31:35.837Z"
   },
   {
    "duration": 15,
    "start_time": "2022-06-03T07:31:36.345Z"
   },
   {
    "duration": 33,
    "start_time": "2022-06-03T07:31:36.361Z"
   },
   {
    "duration": 9,
    "start_time": "2022-06-03T07:31:36.396Z"
   },
   {
    "duration": 12,
    "start_time": "2022-06-03T07:31:36.407Z"
   },
   {
    "duration": 1144,
    "start_time": "2022-06-03T07:35:53.315Z"
   },
   {
    "duration": 27,
    "start_time": "2022-06-03T07:35:54.461Z"
   },
   {
    "duration": 37,
    "start_time": "2022-06-03T07:35:54.489Z"
   },
   {
    "duration": 15,
    "start_time": "2022-06-03T07:35:54.528Z"
   },
   {
    "duration": 11,
    "start_time": "2022-06-03T07:35:54.545Z"
   },
   {
    "duration": 6,
    "start_time": "2022-06-03T07:35:54.558Z"
   },
   {
    "duration": 6,
    "start_time": "2022-06-03T07:35:54.565Z"
   },
   {
    "duration": 37,
    "start_time": "2022-06-03T07:35:54.572Z"
   },
   {
    "duration": 7,
    "start_time": "2022-06-03T07:35:54.611Z"
   },
   {
    "duration": 13,
    "start_time": "2022-06-03T07:35:54.651Z"
   },
   {
    "duration": 11,
    "start_time": "2022-06-03T07:35:54.666Z"
   },
   {
    "duration": 20,
    "start_time": "2022-06-03T07:35:54.679Z"
   },
   {
    "duration": 12,
    "start_time": "2022-06-03T07:35:54.701Z"
   },
   {
    "duration": 9,
    "start_time": "2022-06-03T07:35:54.717Z"
   },
   {
    "duration": 312,
    "start_time": "2022-06-03T07:35:54.753Z"
   },
   {
    "duration": 447,
    "start_time": "2022-06-03T07:35:55.067Z"
   },
   {
    "duration": 182,
    "start_time": "2022-06-03T07:35:55.516Z"
   },
   {
    "duration": 273,
    "start_time": "2022-06-03T07:35:55.700Z"
   },
   {
    "duration": 213,
    "start_time": "2022-06-03T07:35:55.975Z"
   },
   {
    "duration": 325,
    "start_time": "2022-06-03T07:35:56.190Z"
   },
   {
    "duration": 9,
    "start_time": "2022-06-03T07:35:56.517Z"
   },
   {
    "duration": 34,
    "start_time": "2022-06-03T07:35:56.528Z"
   },
   {
    "duration": 158,
    "start_time": "2022-06-03T07:35:56.564Z"
   },
   {
    "duration": 7,
    "start_time": "2022-06-03T07:35:56.724Z"
   },
   {
    "duration": 163,
    "start_time": "2022-06-03T07:35:56.733Z"
   },
   {
    "duration": 5,
    "start_time": "2022-06-03T07:35:56.897Z"
   },
   {
    "duration": 552,
    "start_time": "2022-06-03T07:35:56.905Z"
   },
   {
    "duration": 9,
    "start_time": "2022-06-03T07:35:57.459Z"
   },
   {
    "duration": 37,
    "start_time": "2022-06-03T07:35:57.471Z"
   },
   {
    "duration": 13,
    "start_time": "2022-06-03T07:35:57.509Z"
   },
   {
    "duration": 34,
    "start_time": "2022-06-03T07:35:57.523Z"
   },
   {
    "duration": 1439,
    "start_time": "2022-06-04T07:27:07.091Z"
   },
   {
    "duration": 99,
    "start_time": "2022-06-04T07:27:08.532Z"
   },
   {
    "duration": 139,
    "start_time": "2022-06-04T07:27:08.633Z"
   },
   {
    "duration": 119,
    "start_time": "2022-06-04T07:27:08.775Z"
   },
   {
    "duration": 13,
    "start_time": "2022-06-04T07:27:08.897Z"
   },
   {
    "duration": 7,
    "start_time": "2022-06-04T07:27:08.912Z"
   },
   {
    "duration": 5,
    "start_time": "2022-06-04T07:27:08.921Z"
   },
   {
    "duration": 40,
    "start_time": "2022-06-04T07:27:08.928Z"
   },
   {
    "duration": 12,
    "start_time": "2022-06-04T07:27:08.970Z"
   },
   {
    "duration": 24,
    "start_time": "2022-06-04T07:27:08.986Z"
   },
   {
    "duration": 10,
    "start_time": "2022-06-04T07:27:09.011Z"
   },
   {
    "duration": 15,
    "start_time": "2022-06-04T07:27:09.023Z"
   },
   {
    "duration": 25,
    "start_time": "2022-06-04T07:27:09.039Z"
   },
   {
    "duration": 28,
    "start_time": "2022-06-04T07:27:09.066Z"
   },
   {
    "duration": 321,
    "start_time": "2022-06-04T07:27:09.096Z"
   },
   {
    "duration": 387,
    "start_time": "2022-06-04T07:27:09.419Z"
   },
   {
    "duration": 198,
    "start_time": "2022-06-04T07:27:09.808Z"
   },
   {
    "duration": 329,
    "start_time": "2022-06-04T07:27:10.008Z"
   },
   {
    "duration": 214,
    "start_time": "2022-06-04T07:27:10.339Z"
   },
   {
    "duration": 337,
    "start_time": "2022-06-04T07:27:10.554Z"
   },
   {
    "duration": 8,
    "start_time": "2022-06-04T07:27:10.893Z"
   },
   {
    "duration": 12,
    "start_time": "2022-06-04T07:27:10.903Z"
   },
   {
    "duration": 140,
    "start_time": "2022-06-04T07:27:10.917Z"
   },
   {
    "duration": 5,
    "start_time": "2022-06-04T07:27:11.059Z"
   },
   {
    "duration": 151,
    "start_time": "2022-06-04T07:27:11.065Z"
   },
   {
    "duration": 4,
    "start_time": "2022-06-04T07:27:11.218Z"
   },
   {
    "duration": 528,
    "start_time": "2022-06-04T07:27:11.224Z"
   },
   {
    "duration": 14,
    "start_time": "2022-06-04T07:27:11.760Z"
   },
   {
    "duration": 47,
    "start_time": "2022-06-04T07:27:11.776Z"
   },
   {
    "duration": 9,
    "start_time": "2022-06-04T07:27:11.824Z"
   },
   {
    "duration": 9,
    "start_time": "2022-06-04T07:27:11.835Z"
   },
   {
    "duration": 199,
    "start_time": "2022-06-04T07:28:43.513Z"
   },
   {
    "duration": 334,
    "start_time": "2022-06-04T07:29:02.884Z"
   },
   {
    "duration": 219,
    "start_time": "2022-06-04T07:29:09.751Z"
   },
   {
    "duration": 207,
    "start_time": "2022-06-04T07:29:45.989Z"
   },
   {
    "duration": 268,
    "start_time": "2022-06-04T07:30:00.958Z"
   },
   {
    "duration": 209,
    "start_time": "2022-06-04T07:30:09.037Z"
   },
   {
    "duration": 311,
    "start_time": "2022-06-04T07:30:18.611Z"
   },
   {
    "duration": 219,
    "start_time": "2022-06-04T07:30:44.111Z"
   },
   {
    "duration": 224,
    "start_time": "2022-06-04T07:30:57.616Z"
   },
   {
    "duration": 242,
    "start_time": "2022-06-04T07:32:42.965Z"
   },
   {
    "duration": 295,
    "start_time": "2022-06-04T07:33:31.019Z"
   },
   {
    "duration": 231,
    "start_time": "2022-06-04T07:34:57.896Z"
   },
   {
    "duration": 342,
    "start_time": "2022-06-04T07:37:56.895Z"
   },
   {
    "duration": 255,
    "start_time": "2022-06-04T07:38:10.681Z"
   },
   {
    "duration": 265,
    "start_time": "2022-06-04T07:38:17.392Z"
   },
   {
    "duration": 368,
    "start_time": "2022-06-04T07:38:29.755Z"
   },
   {
    "duration": 334,
    "start_time": "2022-06-04T07:40:43.883Z"
   },
   {
    "duration": 165,
    "start_time": "2022-06-04T07:45:35.323Z"
   },
   {
    "duration": 183,
    "start_time": "2022-06-04T07:46:18.746Z"
   },
   {
    "duration": 144,
    "start_time": "2022-06-04T07:47:09.784Z"
   },
   {
    "duration": 162,
    "start_time": "2022-06-04T07:47:24.249Z"
   },
   {
    "duration": 284,
    "start_time": "2022-06-04T07:47:37.576Z"
   },
   {
    "duration": 197,
    "start_time": "2022-06-04T07:48:07.380Z"
   },
   {
    "duration": 190,
    "start_time": "2022-06-04T07:48:11.700Z"
   },
   {
    "duration": 158,
    "start_time": "2022-06-04T07:48:21.987Z"
   },
   {
    "duration": 19,
    "start_time": "2022-06-04T07:52:31.295Z"
   },
   {
    "duration": 20,
    "start_time": "2022-06-04T08:29:53.377Z"
   },
   {
    "duration": 11,
    "start_time": "2022-06-04T08:30:13.532Z"
   },
   {
    "duration": 14,
    "start_time": "2022-06-04T08:37:43.211Z"
   },
   {
    "duration": 1540,
    "start_time": "2022-06-04T13:33:35.550Z"
   },
   {
    "duration": 88,
    "start_time": "2022-06-04T13:33:37.092Z"
   },
   {
    "duration": 86,
    "start_time": "2022-06-04T13:33:37.182Z"
   },
   {
    "duration": 68,
    "start_time": "2022-06-04T13:33:37.271Z"
   },
   {
    "duration": 17,
    "start_time": "2022-06-04T13:33:37.342Z"
   },
   {
    "duration": 14,
    "start_time": "2022-06-04T13:33:37.361Z"
   },
   {
    "duration": 7,
    "start_time": "2022-06-04T13:33:37.379Z"
   },
   {
    "duration": 61,
    "start_time": "2022-06-04T13:33:37.388Z"
   },
   {
    "duration": 11,
    "start_time": "2022-06-04T13:33:37.451Z"
   },
   {
    "duration": 21,
    "start_time": "2022-06-04T13:33:37.464Z"
   },
   {
    "duration": 16,
    "start_time": "2022-06-04T13:33:37.487Z"
   },
   {
    "duration": 46,
    "start_time": "2022-06-04T13:33:37.504Z"
   },
   {
    "duration": 20,
    "start_time": "2022-06-04T13:33:37.553Z"
   },
   {
    "duration": 15,
    "start_time": "2022-06-04T13:33:37.578Z"
   },
   {
    "duration": 411,
    "start_time": "2022-06-04T13:33:37.596Z"
   },
   {
    "duration": 511,
    "start_time": "2022-06-04T13:33:38.010Z"
   },
   {
    "duration": 255,
    "start_time": "2022-06-04T13:33:38.525Z"
   },
   {
    "duration": 471,
    "start_time": "2022-06-04T13:33:38.782Z"
   },
   {
    "duration": 327,
    "start_time": "2022-06-04T13:33:39.255Z"
   },
   {
    "duration": 453,
    "start_time": "2022-06-04T13:33:39.585Z"
   },
   {
    "duration": 93,
    "start_time": "2022-06-04T13:33:40.040Z"
   },
   {
    "duration": 79,
    "start_time": "2022-06-04T13:33:40.139Z"
   },
   {
    "duration": 346,
    "start_time": "2022-06-04T13:33:40.219Z"
   },
   {
    "duration": 625,
    "start_time": "2022-06-04T13:33:40.568Z"
   },
   {
    "duration": 553,
    "start_time": "2022-06-04T13:33:41.196Z"
   },
   {
    "duration": 566,
    "start_time": "2022-06-04T13:33:41.751Z"
   },
   {
    "duration": 10,
    "start_time": "2022-06-04T13:33:42.320Z"
   },
   {
    "duration": 37,
    "start_time": "2022-06-04T13:33:42.334Z"
   },
   {
    "duration": 8,
    "start_time": "2022-06-04T13:33:42.374Z"
   },
   {
    "duration": 594,
    "start_time": "2022-06-04T13:33:42.385Z"
   },
   {
    "duration": 13,
    "start_time": "2022-06-04T13:33:42.980Z"
   },
   {
    "duration": 72,
    "start_time": "2022-06-04T13:33:42.995Z"
   },
   {
    "duration": 11,
    "start_time": "2022-06-04T13:33:43.069Z"
   },
   {
    "duration": 17,
    "start_time": "2022-06-04T13:33:43.082Z"
   },
   {
    "duration": 1252,
    "start_time": "2022-06-05T10:31:48.301Z"
   },
   {
    "duration": 68,
    "start_time": "2022-06-05T10:31:49.555Z"
   },
   {
    "duration": 68,
    "start_time": "2022-06-05T10:31:49.624Z"
   },
   {
    "duration": 54,
    "start_time": "2022-06-05T10:31:49.694Z"
   },
   {
    "duration": 11,
    "start_time": "2022-06-05T10:31:49.750Z"
   },
   {
    "duration": 5,
    "start_time": "2022-06-05T10:31:49.763Z"
   },
   {
    "duration": 5,
    "start_time": "2022-06-05T10:31:49.770Z"
   },
   {
    "duration": 39,
    "start_time": "2022-06-05T10:31:49.776Z"
   },
   {
    "duration": 25,
    "start_time": "2022-06-05T10:31:49.816Z"
   },
   {
    "duration": 7,
    "start_time": "2022-06-05T10:31:49.844Z"
   },
   {
    "duration": 17,
    "start_time": "2022-06-05T10:31:49.852Z"
   },
   {
    "duration": 11,
    "start_time": "2022-06-05T10:31:49.870Z"
   },
   {
    "duration": 14,
    "start_time": "2022-06-05T10:31:49.883Z"
   },
   {
    "duration": 11,
    "start_time": "2022-06-05T10:31:49.898Z"
   },
   {
    "duration": 32,
    "start_time": "2022-06-05T10:31:49.910Z"
   },
   {
    "duration": 281,
    "start_time": "2022-06-05T10:31:49.943Z"
   },
   {
    "duration": 397,
    "start_time": "2022-06-05T10:31:50.226Z"
   },
   {
    "duration": 208,
    "start_time": "2022-06-05T10:31:50.624Z"
   },
   {
    "duration": 363,
    "start_time": "2022-06-05T10:31:50.833Z"
   },
   {
    "duration": 232,
    "start_time": "2022-06-05T10:31:51.197Z"
   },
   {
    "duration": 339,
    "start_time": "2022-06-05T10:31:51.431Z"
   },
   {
    "duration": 8,
    "start_time": "2022-06-05T10:31:51.772Z"
   },
   {
    "duration": 14,
    "start_time": "2022-06-05T10:31:51.781Z"
   },
   {
    "duration": 150,
    "start_time": "2022-06-05T10:31:51.797Z"
   },
   {
    "duration": 4,
    "start_time": "2022-06-05T10:31:51.949Z"
   },
   {
    "duration": 168,
    "start_time": "2022-06-05T10:31:51.955Z"
   },
   {
    "duration": 149,
    "start_time": "2022-06-05T10:31:52.124Z"
   },
   {
    "duration": 4,
    "start_time": "2022-06-05T10:31:52.276Z"
   },
   {
    "duration": 13,
    "start_time": "2022-06-05T10:31:52.281Z"
   },
   {
    "duration": 6,
    "start_time": "2022-06-05T10:31:52.296Z"
   },
   {
    "duration": 497,
    "start_time": "2022-06-05T10:31:52.303Z"
   },
   {
    "duration": 9,
    "start_time": "2022-06-05T10:31:52.802Z"
   },
   {
    "duration": 42,
    "start_time": "2022-06-05T10:31:52.812Z"
   },
   {
    "duration": 9,
    "start_time": "2022-06-05T10:31:52.856Z"
   },
   {
    "duration": 8,
    "start_time": "2022-06-05T10:31:52.866Z"
   },
   {
    "duration": 8,
    "start_time": "2022-06-05T10:32:46.227Z"
   },
   {
    "duration": 12,
    "start_time": "2022-06-05T10:33:01.006Z"
   },
   {
    "duration": 118,
    "start_time": "2022-06-05T10:33:56.077Z"
   },
   {
    "duration": 12,
    "start_time": "2022-06-05T10:34:09.146Z"
   },
   {
    "duration": 9,
    "start_time": "2022-06-05T10:34:30.346Z"
   },
   {
    "duration": 14,
    "start_time": "2022-06-05T10:34:40.023Z"
   },
   {
    "duration": 20,
    "start_time": "2022-06-05T10:35:12.587Z"
   },
   {
    "duration": 6,
    "start_time": "2022-06-05T10:35:44.438Z"
   },
   {
    "duration": 45,
    "start_time": "2022-06-05T10:35:44.458Z"
   },
   {
    "duration": 48,
    "start_time": "2022-06-05T10:35:44.504Z"
   },
   {
    "duration": 36,
    "start_time": "2022-06-05T10:35:44.553Z"
   },
   {
    "duration": 10,
    "start_time": "2022-06-05T10:35:44.592Z"
   },
   {
    "duration": 5,
    "start_time": "2022-06-05T10:35:44.604Z"
   },
   {
    "duration": 6,
    "start_time": "2022-06-05T10:35:44.610Z"
   },
   {
    "duration": 31,
    "start_time": "2022-06-05T10:35:44.632Z"
   },
   {
    "duration": 11,
    "start_time": "2022-06-05T10:35:48.320Z"
   },
   {
    "duration": 23,
    "start_time": "2022-06-05T10:35:50.584Z"
   },
   {
    "duration": 5,
    "start_time": "2022-06-05T10:36:11.638Z"
   },
   {
    "duration": 73,
    "start_time": "2022-06-05T10:36:11.744Z"
   },
   {
    "duration": 136,
    "start_time": "2022-06-05T10:36:11.819Z"
   },
   {
    "duration": 56,
    "start_time": "2022-06-05T10:36:11.956Z"
   },
   {
    "duration": 10,
    "start_time": "2022-06-05T10:36:12.014Z"
   },
   {
    "duration": 5,
    "start_time": "2022-06-05T10:36:12.026Z"
   },
   {
    "duration": 3,
    "start_time": "2022-06-05T10:36:12.119Z"
   },
   {
    "duration": 31,
    "start_time": "2022-06-05T10:36:12.162Z"
   },
   {
    "duration": 12,
    "start_time": "2022-06-05T10:36:16.316Z"
   },
   {
    "duration": 19,
    "start_time": "2022-06-05T10:36:19.702Z"
   },
   {
    "duration": 8,
    "start_time": "2022-06-05T10:37:33.356Z"
   },
   {
    "duration": 8,
    "start_time": "2022-06-05T10:38:41.262Z"
   },
   {
    "duration": 10,
    "start_time": "2022-06-05T10:39:13.459Z"
   },
   {
    "duration": 9,
    "start_time": "2022-06-05T10:40:24.521Z"
   },
   {
    "duration": 9,
    "start_time": "2022-06-05T10:40:35.592Z"
   },
   {
    "duration": 52,
    "start_time": "2022-06-05T10:42:02.679Z"
   },
   {
    "duration": 9,
    "start_time": "2022-06-05T10:42:39.600Z"
   },
   {
    "duration": 9,
    "start_time": "2022-06-05T10:43:09.347Z"
   },
   {
    "duration": 21,
    "start_time": "2022-06-05T10:44:25.664Z"
   },
   {
    "duration": 16,
    "start_time": "2022-06-05T10:44:32.992Z"
   },
   {
    "duration": 7,
    "start_time": "2022-06-05T10:44:51.942Z"
   },
   {
    "duration": 11,
    "start_time": "2022-06-05T10:45:01.910Z"
   },
   {
    "duration": 200,
    "start_time": "2022-06-05T10:48:10.282Z"
   },
   {
    "duration": 9,
    "start_time": "2022-06-05T10:48:21.025Z"
   },
   {
    "duration": 166,
    "start_time": "2022-06-05T10:48:31.500Z"
   },
   {
    "duration": 9,
    "start_time": "2022-06-05T10:48:32.678Z"
   },
   {
    "duration": 5,
    "start_time": "2022-06-05T10:49:04.952Z"
   },
   {
    "duration": 61,
    "start_time": "2022-06-05T10:49:04.962Z"
   },
   {
    "duration": 68,
    "start_time": "2022-06-05T10:49:05.025Z"
   },
   {
    "duration": 30,
    "start_time": "2022-06-05T10:49:05.095Z"
   },
   {
    "duration": 11,
    "start_time": "2022-06-05T10:49:05.127Z"
   },
   {
    "duration": 21,
    "start_time": "2022-06-05T10:49:05.139Z"
   },
   {
    "duration": 20,
    "start_time": "2022-06-05T10:49:05.162Z"
   },
   {
    "duration": 55,
    "start_time": "2022-06-05T10:49:05.184Z"
   },
   {
    "duration": 12,
    "start_time": "2022-06-05T10:49:05.245Z"
   },
   {
    "duration": 8,
    "start_time": "2022-06-05T10:49:09.143Z"
   },
   {
    "duration": 11,
    "start_time": "2022-06-05T10:51:08.102Z"
   },
   {
    "duration": 172,
    "start_time": "2022-06-05T10:51:17.082Z"
   },
   {
    "duration": 12,
    "start_time": "2022-06-05T10:51:19.278Z"
   },
   {
    "duration": 148,
    "start_time": "2022-06-05T10:51:58.860Z"
   },
   {
    "duration": 11,
    "start_time": "2022-06-05T10:52:00.151Z"
   },
   {
    "duration": 5,
    "start_time": "2022-06-05T10:52:20.716Z"
   },
   {
    "duration": 46,
    "start_time": "2022-06-05T10:52:20.741Z"
   },
   {
    "duration": 68,
    "start_time": "2022-06-05T10:52:20.789Z"
   },
   {
    "duration": 30,
    "start_time": "2022-06-05T10:52:20.859Z"
   },
   {
    "duration": 11,
    "start_time": "2022-06-05T10:52:20.891Z"
   },
   {
    "duration": 6,
    "start_time": "2022-06-05T10:52:20.904Z"
   },
   {
    "duration": 24,
    "start_time": "2022-06-05T10:52:20.912Z"
   },
   {
    "duration": 44,
    "start_time": "2022-06-05T10:52:20.937Z"
   },
   {
    "duration": 8,
    "start_time": "2022-06-05T10:52:20.983Z"
   },
   {
    "duration": 7,
    "start_time": "2022-06-05T10:52:26.917Z"
   },
   {
    "duration": 154,
    "start_time": "2022-06-05T10:52:28.942Z"
   },
   {
    "duration": 11,
    "start_time": "2022-06-05T10:52:30.040Z"
   },
   {
    "duration": 10,
    "start_time": "2022-06-05T10:53:21.895Z"
   },
   {
    "duration": 4,
    "start_time": "2022-06-05T10:53:31.436Z"
   },
   {
    "duration": 39,
    "start_time": "2022-06-05T10:53:31.444Z"
   },
   {
    "duration": 47,
    "start_time": "2022-06-05T10:53:31.485Z"
   },
   {
    "duration": 28,
    "start_time": "2022-06-05T10:53:31.534Z"
   },
   {
    "duration": 12,
    "start_time": "2022-06-05T10:53:31.564Z"
   },
   {
    "duration": 14,
    "start_time": "2022-06-05T10:53:31.578Z"
   },
   {
    "duration": 7,
    "start_time": "2022-06-05T10:53:31.594Z"
   },
   {
    "duration": 39,
    "start_time": "2022-06-05T10:53:31.603Z"
   },
   {
    "duration": 8,
    "start_time": "2022-06-05T10:53:31.644Z"
   },
   {
    "duration": 11,
    "start_time": "2022-06-05T10:53:31.653Z"
   },
   {
    "duration": 180,
    "start_time": "2022-06-05T10:53:31.666Z"
   },
   {
    "duration": 11,
    "start_time": "2022-06-05T10:53:31.848Z"
   },
   {
    "duration": 15,
    "start_time": "2022-06-05T10:53:31.861Z"
   },
   {
    "duration": 8,
    "start_time": "2022-06-05T10:53:31.878Z"
   },
   {
    "duration": 27,
    "start_time": "2022-06-05T10:53:31.888Z"
   },
   {
    "duration": 25,
    "start_time": "2022-06-05T10:53:31.916Z"
   },
   {
    "duration": 15,
    "start_time": "2022-06-05T10:53:31.944Z"
   },
   {
    "duration": 12,
    "start_time": "2022-06-05T10:53:31.961Z"
   },
   {
    "duration": 10,
    "start_time": "2022-06-05T10:53:31.975Z"
   },
   {
    "duration": 309,
    "start_time": "2022-06-05T10:53:31.987Z"
   },
   {
    "duration": 213,
    "start_time": "2022-06-05T10:53:32.298Z"
   },
   {
    "duration": 230,
    "start_time": "2022-06-05T10:53:32.513Z"
   },
   {
    "duration": 331,
    "start_time": "2022-06-05T10:53:32.744Z"
   },
   {
    "duration": 219,
    "start_time": "2022-06-05T10:53:33.077Z"
   },
   {
    "duration": 399,
    "start_time": "2022-06-05T10:53:33.297Z"
   },
   {
    "duration": 8,
    "start_time": "2022-06-05T10:53:33.698Z"
   },
   {
    "duration": 11,
    "start_time": "2022-06-05T10:53:33.708Z"
   },
   {
    "duration": 190,
    "start_time": "2022-06-05T10:53:33.722Z"
   },
   {
    "duration": 4,
    "start_time": "2022-06-05T10:53:33.914Z"
   },
   {
    "duration": 164,
    "start_time": "2022-06-05T10:53:33.920Z"
   },
   {
    "duration": 164,
    "start_time": "2022-06-05T10:53:34.086Z"
   },
   {
    "duration": 4,
    "start_time": "2022-06-05T10:53:34.252Z"
   },
   {
    "duration": 13,
    "start_time": "2022-06-05T10:53:34.257Z"
   },
   {
    "duration": 8,
    "start_time": "2022-06-05T10:53:34.271Z"
   },
   {
    "duration": 510,
    "start_time": "2022-06-05T10:53:34.281Z"
   },
   {
    "duration": 9,
    "start_time": "2022-06-05T10:53:34.793Z"
   },
   {
    "duration": 43,
    "start_time": "2022-06-05T10:53:34.804Z"
   },
   {
    "duration": 10,
    "start_time": "2022-06-05T10:53:34.849Z"
   },
   {
    "duration": 24,
    "start_time": "2022-06-05T10:53:34.861Z"
   },
   {
    "duration": 1468,
    "start_time": "2022-06-06T07:01:15.958Z"
   },
   {
    "duration": 76,
    "start_time": "2022-06-06T07:01:17.431Z"
   },
   {
    "duration": 101,
    "start_time": "2022-06-06T07:01:17.509Z"
   },
   {
    "duration": 79,
    "start_time": "2022-06-06T07:01:17.612Z"
   },
   {
    "duration": 13,
    "start_time": "2022-06-06T07:01:17.693Z"
   },
   {
    "duration": 13,
    "start_time": "2022-06-06T07:01:17.708Z"
   },
   {
    "duration": 60,
    "start_time": "2022-06-06T07:01:17.723Z"
   },
   {
    "duration": 59,
    "start_time": "2022-06-06T07:01:17.785Z"
   },
   {
    "duration": 14,
    "start_time": "2022-06-06T07:01:17.846Z"
   },
   {
    "duration": 22,
    "start_time": "2022-06-06T07:01:17.864Z"
   },
   {
    "duration": 269,
    "start_time": "2022-06-06T07:01:17.888Z"
   },
   {
    "duration": 13,
    "start_time": "2022-06-06T07:01:18.159Z"
   },
   {
    "duration": 9,
    "start_time": "2022-06-06T07:01:18.173Z"
   },
   {
    "duration": 7,
    "start_time": "2022-06-06T07:01:18.184Z"
   },
   {
    "duration": 46,
    "start_time": "2022-06-06T07:01:18.193Z"
   },
   {
    "duration": 46,
    "start_time": "2022-06-06T07:01:18.246Z"
   },
   {
    "duration": 23,
    "start_time": "2022-06-06T07:01:18.293Z"
   },
   {
    "duration": 55,
    "start_time": "2022-06-06T07:01:18.317Z"
   },
   {
    "duration": 10,
    "start_time": "2022-06-06T07:01:18.373Z"
   },
   {
    "duration": 303,
    "start_time": "2022-06-06T07:01:18.385Z"
   },
   {
    "duration": 418,
    "start_time": "2022-06-06T07:01:18.690Z"
   },
   {
    "duration": 259,
    "start_time": "2022-06-06T07:01:19.109Z"
   },
   {
    "duration": 306,
    "start_time": "2022-06-06T07:01:19.370Z"
   },
   {
    "duration": 218,
    "start_time": "2022-06-06T07:01:19.678Z"
   },
   {
    "duration": 388,
    "start_time": "2022-06-06T07:01:19.898Z"
   },
   {
    "duration": 8,
    "start_time": "2022-06-06T07:01:20.288Z"
   },
   {
    "duration": 17,
    "start_time": "2022-06-06T07:01:20.297Z"
   },
   {
    "duration": 169,
    "start_time": "2022-06-06T07:01:20.326Z"
   },
   {
    "duration": 5,
    "start_time": "2022-06-06T07:01:20.496Z"
   },
   {
    "duration": 175,
    "start_time": "2022-06-06T07:01:20.503Z"
   },
   {
    "duration": 168,
    "start_time": "2022-06-06T07:01:20.680Z"
   },
   {
    "duration": 11,
    "start_time": "2022-06-06T07:01:20.854Z"
   },
   {
    "duration": 13,
    "start_time": "2022-06-06T07:01:20.866Z"
   },
   {
    "duration": 15,
    "start_time": "2022-06-06T07:01:20.880Z"
   },
   {
    "duration": 515,
    "start_time": "2022-06-06T07:01:20.897Z"
   },
   {
    "duration": 18,
    "start_time": "2022-06-06T07:01:21.414Z"
   },
   {
    "duration": 62,
    "start_time": "2022-06-06T07:01:21.438Z"
   },
   {
    "duration": 11,
    "start_time": "2022-06-06T07:01:21.501Z"
   },
   {
    "duration": 21,
    "start_time": "2022-06-06T07:01:21.514Z"
   },
   {
    "duration": 1113,
    "start_time": "2022-06-06T07:02:37.251Z"
   },
   {
    "duration": 27,
    "start_time": "2022-06-06T07:02:38.366Z"
   },
   {
    "duration": 44,
    "start_time": "2022-06-06T07:02:38.395Z"
   },
   {
    "duration": 19,
    "start_time": "2022-06-06T07:02:38.441Z"
   },
   {
    "duration": 11,
    "start_time": "2022-06-06T07:02:38.462Z"
   },
   {
    "duration": 9,
    "start_time": "2022-06-06T07:02:38.474Z"
   },
   {
    "duration": 6,
    "start_time": "2022-06-06T07:02:38.484Z"
   },
   {
    "duration": 46,
    "start_time": "2022-06-06T07:02:38.492Z"
   },
   {
    "duration": 17,
    "start_time": "2022-06-06T07:02:38.545Z"
   },
   {
    "duration": 18,
    "start_time": "2022-06-06T07:02:38.563Z"
   },
   {
    "duration": 163,
    "start_time": "2022-06-06T07:02:38.582Z"
   },
   {
    "duration": 16,
    "start_time": "2022-06-06T07:02:38.747Z"
   },
   {
    "duration": 12,
    "start_time": "2022-06-06T07:02:38.764Z"
   },
   {
    "duration": 7,
    "start_time": "2022-06-06T07:02:38.779Z"
   },
   {
    "duration": 11,
    "start_time": "2022-06-06T07:02:38.788Z"
   },
   {
    "duration": 43,
    "start_time": "2022-06-06T07:02:38.801Z"
   },
   {
    "duration": 23,
    "start_time": "2022-06-06T07:02:38.845Z"
   },
   {
    "duration": 21,
    "start_time": "2022-06-06T07:02:38.870Z"
   },
   {
    "duration": 19,
    "start_time": "2022-06-06T07:02:38.893Z"
   },
   {
    "duration": 613,
    "start_time": "2022-06-06T07:02:38.914Z"
   },
   {
    "duration": 630,
    "start_time": "2022-06-06T07:02:39.545Z"
   },
   {
    "duration": 215,
    "start_time": "2022-06-06T07:02:40.177Z"
   },
   {
    "duration": 337,
    "start_time": "2022-06-06T07:02:40.394Z"
   },
   {
    "duration": 241,
    "start_time": "2022-06-06T07:02:40.737Z"
   },
   {
    "duration": 326,
    "start_time": "2022-06-06T07:02:40.980Z"
   },
   {
    "duration": 8,
    "start_time": "2022-06-06T07:02:41.308Z"
   },
   {
    "duration": 36,
    "start_time": "2022-06-06T07:02:41.323Z"
   },
   {
    "duration": 151,
    "start_time": "2022-06-06T07:02:41.360Z"
   },
   {
    "duration": 5,
    "start_time": "2022-06-06T07:02:41.513Z"
   },
   {
    "duration": 192,
    "start_time": "2022-06-06T07:02:41.526Z"
   },
   {
    "duration": 156,
    "start_time": "2022-06-06T07:02:41.720Z"
   },
   {
    "duration": 4,
    "start_time": "2022-06-06T07:02:41.878Z"
   },
   {
    "duration": 21,
    "start_time": "2022-06-06T07:02:41.884Z"
   },
   {
    "duration": 7,
    "start_time": "2022-06-06T07:02:41.906Z"
   },
   {
    "duration": 482,
    "start_time": "2022-06-06T07:02:41.915Z"
   },
   {
    "duration": 9,
    "start_time": "2022-06-06T07:02:42.399Z"
   },
   {
    "duration": 58,
    "start_time": "2022-06-06T07:02:42.410Z"
   },
   {
    "duration": 10,
    "start_time": "2022-06-06T07:02:42.470Z"
   },
   {
    "duration": 10,
    "start_time": "2022-06-06T07:02:42.482Z"
   }
  ],
  "kernelspec": {
   "display_name": "Python 3",
   "language": "python",
   "name": "python3"
  },
  "language_info": {
   "codemirror_mode": {
    "name": "ipython",
    "version": 3
   },
   "file_extension": ".py",
   "mimetype": "text/x-python",
   "name": "python",
   "nbconvert_exporter": "python",
   "pygments_lexer": "ipython3",
   "version": "3.8.8"
  },
  "toc": {
   "base_numbering": 1,
   "nav_menu": {},
   "number_sections": true,
   "sideBar": true,
   "skip_h1_title": true,
   "title_cell": "Table of Contents",
   "title_sidebar": "Contents",
   "toc_cell": true,
   "toc_position": {},
   "toc_section_display": true,
   "toc_window_display": false
  }
 },
 "nbformat": 4,
 "nbformat_minor": 5
}
